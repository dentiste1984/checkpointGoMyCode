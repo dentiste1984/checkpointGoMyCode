{
 "cells": [
  {
   "cell_type": "markdown",
   "id": "06b063eb",
   "metadata": {},
   "source": [
    "# Check point Data Visualization"
   ]
  },
  {
   "cell_type": "markdown",
   "id": "ffa8e420",
   "metadata": {},
   "source": [
    "# Ali LAMINE"
   ]
  },
  {
   "cell_type": "code",
   "execution_count": 1,
   "id": "c58b5f06",
   "metadata": {},
   "outputs": [],
   "source": [
    "# import libraries \n",
    "import pandas as pd\n",
    "import numpy as np\n",
    "import matplotlib.pyplot as plt\n",
    "import seaborn as sns"
   ]
  },
  {
   "cell_type": "raw",
   "id": "fa60770a",
   "metadata": {},
   "source": [
    "1- Preprocessing phase:\n",
    "After importing the dataset using Pandas start by showing the head of the dataset then some general information about the data columns and values.\n",
    "\n",
    "As a next step, apply what you have learned in the course to preprocess your data: find missing information and replace it with the appropriate values.\n",
    "\n",
    "Verify that your data is ready to be treated."
   ]
  },
  {
   "cell_type": "code",
   "execution_count": 2,
   "id": "6281665e",
   "metadata": {},
   "outputs": [],
   "source": [
    "# import dataset\n",
    "data= pd.read_csv(\"C:/Users/LENOVO/Desktop/titanic-passengers.csv\", sep=\";\")"
   ]
  },
  {
   "cell_type": "code",
   "execution_count": 3,
   "id": "86f77ea1",
   "metadata": {},
   "outputs": [
    {
     "data": {
      "text/html": [
       "<div>\n",
       "<style scoped>\n",
       "    .dataframe tbody tr th:only-of-type {\n",
       "        vertical-align: middle;\n",
       "    }\n",
       "\n",
       "    .dataframe tbody tr th {\n",
       "        vertical-align: top;\n",
       "    }\n",
       "\n",
       "    .dataframe thead th {\n",
       "        text-align: right;\n",
       "    }\n",
       "</style>\n",
       "<table border=\"1\" class=\"dataframe\">\n",
       "  <thead>\n",
       "    <tr style=\"text-align: right;\">\n",
       "      <th></th>\n",
       "      <th>PassengerId</th>\n",
       "      <th>Survived</th>\n",
       "      <th>Pclass</th>\n",
       "      <th>Name</th>\n",
       "      <th>Sex</th>\n",
       "      <th>Age</th>\n",
       "      <th>SibSp</th>\n",
       "      <th>Parch</th>\n",
       "      <th>Ticket</th>\n",
       "      <th>Fare</th>\n",
       "      <th>Cabin</th>\n",
       "      <th>Embarked</th>\n",
       "    </tr>\n",
       "  </thead>\n",
       "  <tbody>\n",
       "    <tr>\n",
       "      <th>0</th>\n",
       "      <td>343</td>\n",
       "      <td>No</td>\n",
       "      <td>2</td>\n",
       "      <td>Collander, Mr. Erik Gustaf</td>\n",
       "      <td>male</td>\n",
       "      <td>28.0</td>\n",
       "      <td>0</td>\n",
       "      <td>0</td>\n",
       "      <td>248740</td>\n",
       "      <td>13.0000</td>\n",
       "      <td>NaN</td>\n",
       "      <td>S</td>\n",
       "    </tr>\n",
       "    <tr>\n",
       "      <th>1</th>\n",
       "      <td>76</td>\n",
       "      <td>No</td>\n",
       "      <td>3</td>\n",
       "      <td>Moen, Mr. Sigurd Hansen</td>\n",
       "      <td>male</td>\n",
       "      <td>25.0</td>\n",
       "      <td>0</td>\n",
       "      <td>0</td>\n",
       "      <td>348123</td>\n",
       "      <td>7.6500</td>\n",
       "      <td>F G73</td>\n",
       "      <td>S</td>\n",
       "    </tr>\n",
       "    <tr>\n",
       "      <th>2</th>\n",
       "      <td>641</td>\n",
       "      <td>No</td>\n",
       "      <td>3</td>\n",
       "      <td>Jensen, Mr. Hans Peder</td>\n",
       "      <td>male</td>\n",
       "      <td>20.0</td>\n",
       "      <td>0</td>\n",
       "      <td>0</td>\n",
       "      <td>350050</td>\n",
       "      <td>7.8542</td>\n",
       "      <td>NaN</td>\n",
       "      <td>S</td>\n",
       "    </tr>\n",
       "    <tr>\n",
       "      <th>3</th>\n",
       "      <td>568</td>\n",
       "      <td>No</td>\n",
       "      <td>3</td>\n",
       "      <td>Palsson, Mrs. Nils (Alma Cornelia Berglund)</td>\n",
       "      <td>female</td>\n",
       "      <td>29.0</td>\n",
       "      <td>0</td>\n",
       "      <td>4</td>\n",
       "      <td>349909</td>\n",
       "      <td>21.0750</td>\n",
       "      <td>NaN</td>\n",
       "      <td>S</td>\n",
       "    </tr>\n",
       "    <tr>\n",
       "      <th>4</th>\n",
       "      <td>672</td>\n",
       "      <td>No</td>\n",
       "      <td>1</td>\n",
       "      <td>Davidson, Mr. Thornton</td>\n",
       "      <td>male</td>\n",
       "      <td>31.0</td>\n",
       "      <td>1</td>\n",
       "      <td>0</td>\n",
       "      <td>F.C. 12750</td>\n",
       "      <td>52.0000</td>\n",
       "      <td>B71</td>\n",
       "      <td>S</td>\n",
       "    </tr>\n",
       "  </tbody>\n",
       "</table>\n",
       "</div>"
      ],
      "text/plain": [
       "   PassengerId Survived  Pclass                                         Name  \\\n",
       "0          343       No       2                   Collander, Mr. Erik Gustaf   \n",
       "1           76       No       3                      Moen, Mr. Sigurd Hansen   \n",
       "2          641       No       3                       Jensen, Mr. Hans Peder   \n",
       "3          568       No       3  Palsson, Mrs. Nils (Alma Cornelia Berglund)   \n",
       "4          672       No       1                       Davidson, Mr. Thornton   \n",
       "\n",
       "      Sex   Age  SibSp  Parch      Ticket     Fare  Cabin Embarked  \n",
       "0    male  28.0      0      0      248740  13.0000    NaN        S  \n",
       "1    male  25.0      0      0      348123   7.6500  F G73        S  \n",
       "2    male  20.0      0      0      350050   7.8542    NaN        S  \n",
       "3  female  29.0      0      4      349909  21.0750    NaN        S  \n",
       "4    male  31.0      1      0  F.C. 12750  52.0000    B71        S  "
      ]
     },
     "execution_count": 3,
     "metadata": {},
     "output_type": "execute_result"
    }
   ],
   "source": [
    "# head of the dataset\n",
    "data.head()"
   ]
  },
  {
   "cell_type": "code",
   "execution_count": 4,
   "id": "4e906c6c",
   "metadata": {},
   "outputs": [
    {
     "name": "stdout",
     "output_type": "stream",
     "text": [
      "<class 'pandas.core.frame.DataFrame'>\n",
      "RangeIndex: 891 entries, 0 to 890\n",
      "Data columns (total 12 columns):\n",
      " #   Column       Non-Null Count  Dtype  \n",
      "---  ------       --------------  -----  \n",
      " 0   PassengerId  891 non-null    int64  \n",
      " 1   Survived     891 non-null    object \n",
      " 2   Pclass       891 non-null    int64  \n",
      " 3   Name         891 non-null    object \n",
      " 4   Sex          891 non-null    object \n",
      " 5   Age          714 non-null    float64\n",
      " 6   SibSp        891 non-null    int64  \n",
      " 7   Parch        891 non-null    int64  \n",
      " 8   Ticket       891 non-null    object \n",
      " 9   Fare         891 non-null    float64\n",
      " 10  Cabin        204 non-null    object \n",
      " 11  Embarked     889 non-null    object \n",
      "dtypes: float64(2), int64(4), object(6)\n",
      "memory usage: 83.7+ KB\n"
     ]
    }
   ],
   "source": [
    "# general information \n",
    "data.info()"
   ]
  },
  {
   "cell_type": "code",
   "execution_count": 5,
   "id": "c4c6c279",
   "metadata": {},
   "outputs": [
    {
     "data": {
      "text/plain": [
       "Index(['PassengerId', 'Survived', 'Pclass', 'Name', 'Sex', 'Age', 'SibSp',\n",
       "       'Parch', 'Ticket', 'Fare', 'Cabin', 'Embarked'],\n",
       "      dtype='object')"
      ]
     },
     "execution_count": 5,
     "metadata": {},
     "output_type": "execute_result"
    }
   ],
   "source": [
    "data.columns"
   ]
  },
  {
   "cell_type": "code",
   "execution_count": 6,
   "id": "1c31b20e",
   "metadata": {},
   "outputs": [
    {
     "data": {
      "text/plain": [
       "866"
      ]
     },
     "execution_count": 6,
     "metadata": {},
     "output_type": "execute_result"
    }
   ],
   "source": [
    "# Find missing data\n",
    "data.isnull().sum().sum()"
   ]
  },
  {
   "cell_type": "code",
   "execution_count": 7,
   "id": "a663b099",
   "metadata": {
    "scrolled": true
   },
   "outputs": [
    {
     "data": {
      "text/plain": [
       "PassengerId      0\n",
       "Survived         0\n",
       "Pclass           0\n",
       "Name             0\n",
       "Sex              0\n",
       "Age            177\n",
       "SibSp            0\n",
       "Parch            0\n",
       "Ticket           0\n",
       "Fare             0\n",
       "Cabin          687\n",
       "Embarked         2\n",
       "dtype: int64"
      ]
     },
     "execution_count": 7,
     "metadata": {},
     "output_type": "execute_result"
    }
   ],
   "source": [
    "data.isnull().sum()"
   ]
  },
  {
   "cell_type": "raw",
   "id": "c27782e2",
   "metadata": {},
   "source": [
    "columns with missing data are of 2 types:\n",
    "- numerical:\n",
    "    Age \n",
    "- categorical: \n",
    "    Cabin / Embarked\n",
    "We should first learn about the distribution of the \"Age\" and the categories of \"Embarked\" and \"Cabin\""
   ]
  },
  {
   "cell_type": "code",
   "execution_count": 8,
   "id": "e3e471da",
   "metadata": {},
   "outputs": [
    {
     "data": {
      "text/plain": [
       "count    714.000000\n",
       "mean      29.699118\n",
       "std       14.526497\n",
       "min        0.420000\n",
       "25%       20.125000\n",
       "50%       28.000000\n",
       "75%       38.000000\n",
       "max       80.000000\n",
       "Name: Age, dtype: float64"
      ]
     },
     "execution_count": 8,
     "metadata": {},
     "output_type": "execute_result"
    }
   ],
   "source": [
    "data[\"Age\"].describe()"
   ]
  },
  {
   "cell_type": "code",
   "execution_count": 10,
   "id": "98083c44",
   "metadata": {},
   "outputs": [
    {
     "data": {
      "text/plain": [
       "Text(0.5, 1.0, 'Distribution of Ages on the Titanic')"
      ]
     },
     "execution_count": 10,
     "metadata": {},
     "output_type": "execute_result"
    },
    {
     "data": {
      "image/png": "[encoded data removed]",
      "text/plain": [
       "<Figure size 432x288 with 1 Axes>"
      ]
     },
     "metadata": {
      "needs_background": "light"
     },
     "output_type": "display_data"
    }
   ],
   "source": [
    "sns.histplot(data[\"Age\"], bins=20, kde=True) \n",
    "plt.title(\"Distribution of Ages on the Titanic\")"
   ]
  },
  {
   "cell_type": "code",
   "execution_count": 11,
   "id": "0a71767a",
   "metadata": {},
   "outputs": [
    {
     "data": {
      "text/plain": [
       "ShapiroResult(statistic=0.9814548492431641, pvalue=7.322165629375377e-08)"
      ]
     },
     "execution_count": 11,
     "metadata": {},
     "output_type": "execute_result"
    }
   ],
   "source": [
    "from scipy import stats\n",
    "x=data[\"Age\"].dropna()\n",
    "shapiro_test = stats.shapiro(x)\n",
    "shapiro_test"
   ]
  },
  {
   "cell_type": "raw",
   "id": "b6d21be7",
   "metadata": {},
   "source": [
    "Skewed and not normally distributed, so we decide to replace NaN with the median"
   ]
  },
  {
   "cell_type": "code",
   "execution_count": 12,
   "id": "b38771d1",
   "metadata": {},
   "outputs": [
    {
     "data": {
      "text/plain": [
       "S    644\n",
       "C    168\n",
       "Q     77\n",
       "Name: Embarked, dtype: int64"
      ]
     },
     "execution_count": 12,
     "metadata": {},
     "output_type": "execute_result"
    }
   ],
   "source": [
    "data[\"Embarked\"].value_counts()"
   ]
  },
  {
   "cell_type": "raw",
   "id": "832cb1ca",
   "metadata": {},
   "source": [
    "\"S\" in the most frequent category, we decide to fillna with \"S\" (2 missing values not a big deal!!!!)"
   ]
  },
  {
   "cell_type": "code",
   "execution_count": 13,
   "id": "8bcc50b4",
   "metadata": {},
   "outputs": [
    {
     "data": {
      "text/plain": [
       "G6             4\n",
       "B96 B98        4\n",
       "C23 C25 C27    4\n",
       "F33            3\n",
       "D              3\n",
       "              ..\n",
       "A19            1\n",
       "D56            1\n",
       "D15            1\n",
       "A14            1\n",
       "E46            1\n",
       "Name: Cabin, Length: 147, dtype: int64"
      ]
     },
     "execution_count": 13,
     "metadata": {},
     "output_type": "execute_result"
    }
   ],
   "source": [
    "data[\"Cabin\"].value_counts()"
   ]
  },
  {
   "cell_type": "raw",
   "id": "fd41b3cb",
   "metadata": {},
   "source": [
    "687 missing values!!! we can't drop them, maybe they are important for the analysis, we decide to replace NaN with \"unknown\""
   ]
  },
  {
   "cell_type": "code",
   "execution_count": 14,
   "id": "d9e1e68b",
   "metadata": {},
   "outputs": [],
   "source": [
    "# Replacing missing numerical values in \"Age\" with the median\n",
    "data[\"Age\"].fillna(data[\"Age\"].median(), inplace=True)"
   ]
  },
  {
   "cell_type": "code",
   "execution_count": 15,
   "id": "4d0ddf43",
   "metadata": {},
   "outputs": [],
   "source": [
    "# Replacing missing values in \"Embarked\" with the most frequent variable \n",
    "data[\"Embarked\"].fillna(data[\"Embarked\"].value_counts().index[0], inplace=True)"
   ]
  },
  {
   "cell_type": "code",
   "execution_count": 16,
   "id": "90bc445e",
   "metadata": {},
   "outputs": [],
   "source": [
    "# Replacing missing values in \"Cabin\" by \"unkown\"\n",
    "data[\"Cabin\"].fillna(\"unknown\", inplace=True)"
   ]
  },
  {
   "cell_type": "code",
   "execution_count": 17,
   "id": "beb4f429",
   "metadata": {},
   "outputs": [
    {
     "data": {
      "text/plain": [
       "PassengerId    0\n",
       "Survived       0\n",
       "Pclass         0\n",
       "Name           0\n",
       "Sex            0\n",
       "Age            0\n",
       "SibSp          0\n",
       "Parch          0\n",
       "Ticket         0\n",
       "Fare           0\n",
       "Cabin          0\n",
       "Embarked       0\n",
       "dtype: int64"
      ]
     },
     "execution_count": 17,
     "metadata": {},
     "output_type": "execute_result"
    }
   ],
   "source": [
    "# verification of the missing values \n",
    "data.isnull().sum()"
   ]
  },
  {
   "cell_type": "raw",
   "id": "d1125a36",
   "metadata": {},
   "source": [
    "Data is ready to be treated!!!"
   ]
  },
  {
   "cell_type": "raw",
   "id": "def22008",
   "metadata": {},
   "source": [
    "2- Visualization phase:\n",
    "\n",
    "Start by studying the distribution of the most important features based on your understanding of the dataset and the problem.\n",
    "\n",
    "Visualize the correlation between Sex and Age in a plot of your choosing. The visualized plot should give us obvious deductions concerning the importance of age and sex in the survival of the individuals.\n",
    "\n",
    "Pick two other features and study their impact on the survival of the individuals.\n",
    "\n",
    "Have a look at this function:\n",
    "\n",
    "def plot_correlation_map( df ):\n",
    "\n",
    "    corr = df.corr()\n",
    "\n",
    "    s , ax = plt.subplots( figsize =( 12 , 10 ) )\n",
    "\n",
    "    cmap = sns.diverging_palette( 220 , 10 , as_cmap = True )\n",
    "\n",
    "    s = sns.heatmap(\n",
    "\n",
    "        corr, \n",
    "\n",
    "        cmap = cmap,\n",
    "\n",
    "        square=True, \n",
    "\n",
    "        cbar_kws={ 'shrink' : .9 }, \n",
    "\n",
    "        ax=ax, \n",
    "\n",
    "        annot = True, \n",
    "\n",
    "        annot_kws = { 'fontsize' : 12 }\n",
    "\n",
    "        )\n",
    "\n",
    "Try running the function, analyze what it does exactly and its utilities. Write a paragraph describing your analysis (the paragraph should be in English).\n",
    "\n",
    "Use the groupby function combined with the mean() to view the relation between Pclass and survived \n",
    "\n",
    "As a final step, try to drop the useless columns (such as Names).\n",
    "\n",
    "We dropped the column Names because we evaluated it to be useless. But that's ultimately not the case because we can create a very useful feature from Names.\n",
    "\n",
    "Your task now is to create a new column called Title which contains the appropriate Title for each individual. Hint: Extract the title from the column Names.\n",
    "\n",
    "Visualize the correlation between Title and other features(e.g Sex, Fare, Age).\n",
    "\n",
    "As you have seen, there are a lot of titles which makes the feature very impractical. Let's try to group these titles into more useful ones.\n",
    "\n",
    "Hint: Use the following dictionary\n",
    "\n",
    "Title_Dictionary = {\n",
    "\n",
    "                    \"Capt\":       \"Officer\",\n",
    "\n",
    "                    \"Col\":        \"Officer\",\n",
    "\n",
    "                    \"Major\":      \"Officer\",\n",
    "\n",
    "                      \"Dr\":         \"Officer\",\n",
    "\n",
    "                    \"Rev\":        \"Officer”,\n",
    "\n",
    "                    \"Jonkheer\":   \"Royalty\",\n",
    "\n",
    "                    \"Don\":        \"Royalty\",\n",
    "\n",
    "                    \"Sir\" :       \"Royalty\",\n",
    "\n",
    "                   \"Lady\" :      \"Royalty\"\n",
    "\n",
    "                  \"the Countess\": \"Royalty\",\n",
    "\n",
    "                    \"Dona\":       \"Royalty”,\n",
    "\n",
    "                    \"Mme\":        \"Miss\",\n",
    "\n",
    "                    \"Mlle\":       \"Miss\",\n",
    "\n",
    "                    \"Miss\" :      \"Miss\",\n",
    "\n",
    "                    \"Ms\":         \"Mrs\",\n",
    "\n",
    "                    \"Mr\" :        \"Mrs\",\n",
    "\n",
    "                    \"Mrs\" :       \"Mrs\n",
    "\n",
    "                    \"Master\" :    \"Master\"\n",
    "\n",
    "                    }\n",
    "\n",
    "Let's visualize the same correlations using these new titles now.\n",
    "\n",
    "Finally, use the Parch and the SibSp columns to create a more useful feature, let's call it FamilySize.\n",
    "\n",
    "Use what you have learned so far to conclude if this feature is useful or not."
   ]
  },
  {
   "cell_type": "code",
   "execution_count": 18,
   "id": "9177f880",
   "metadata": {},
   "outputs": [
    {
     "data": {
      "text/plain": [
       "Text(0.5, 1.0, 'Survival proportions on the Titanic')"
      ]
     },
     "execution_count": 18,
     "metadata": {},
     "output_type": "execute_result"
    },
    {
     "data": {
      "image/png": "[encoded data removed]",
      "text/plain": [
       "<Figure size 432x288 with 1 Axes>"
      ]
     },
     "metadata": {
      "needs_background": "light"
     },
     "output_type": "display_data"
    }
   ],
   "source": [
    "# Bar plots of \"Survival\"\n",
    "sns.countplot(data=data, x=\"Survived\" )\n",
    "plt.title(\"Survival proportions on the Titanic\")"
   ]
  },
  {
   "cell_type": "raw",
   "id": "c4f9459a",
   "metadata": {},
   "source": [
    "The proportion of people who did not survive is greater that those who survived (sad!!!)"
   ]
  },
  {
   "cell_type": "code",
   "execution_count": 19,
   "id": "5415c9f4",
   "metadata": {},
   "outputs": [
    {
     "data": {
      "text/plain": [
       "Text(0.5, 1.0, 'Proportion of classes on the Titanic')"
      ]
     },
     "execution_count": 19,
     "metadata": {},
     "output_type": "execute_result"
    },
    {
     "data": {
      "image/png": "[encoded data removed]",
      "text/plain": [
       "<Figure size 432x288 with 1 Axes>"
      ]
     },
     "metadata": {
      "needs_background": "light"
     },
     "output_type": "display_data"
    }
   ],
   "source": [
    "# Bar plots of \"Pclass\"\n",
    "sns.countplot(data=data, x=\"Pclass\" )\n",
    "plt.title(\"Proportion of classes on the Titanic\")"
   ]
  },
  {
   "cell_type": "raw",
   "id": "4a4410e8",
   "metadata": {},
   "source": [
    "The majority of the passengers were in 3rd class"
   ]
  },
  {
   "cell_type": "code",
   "execution_count": 20,
   "id": "4287893c",
   "metadata": {},
   "outputs": [
    {
     "data": {
      "text/plain": [
       "Text(0.5, 1.0, \"Gender's proportions\")"
      ]
     },
     "execution_count": 20,
     "metadata": {},
     "output_type": "execute_result"
    },
    {
     "data": {
      "image/png": "[encoded data removed]",
      "text/plain": [
       "<Figure size 432x288 with 1 Axes>"
      ]
     },
     "metadata": {
      "needs_background": "light"
     },
     "output_type": "display_data"
    }
   ],
   "source": [
    "# Bar plots of \"Sex\"\n",
    "sns.countplot(data=data, x=\"Sex\" )\n",
    "plt.title(\"Gender's proportions\")"
   ]
  },
  {
   "cell_type": "raw",
   "id": "250d6c8b",
   "metadata": {},
   "source": [
    "The majority of the passengers were men"
   ]
  },
  {
   "cell_type": "code",
   "execution_count": 21,
   "id": "d19cda73",
   "metadata": {},
   "outputs": [
    {
     "data": {
      "text/plain": [
       "Text(0.5, 1.0, 'Harbours of embarkment')"
      ]
     },
     "execution_count": 21,
     "metadata": {},
     "output_type": "execute_result"
    },
    {
     "data": {
      "image/png": "[encoded data removed]",
      "text/plain": [
       "<Figure size 432x288 with 1 Axes>"
      ]
     },
     "metadata": {
      "needs_background": "light"
     },
     "output_type": "display_data"
    }
   ],
   "source": [
    "# Bar plots of \"Embarked\"\n",
    "sns.countplot(data=data, x=\"Embarked\" )\n",
    "plt.title(\"Harbours of embarkment\")"
   ]
  },
  {
   "cell_type": "raw",
   "id": "835dda68",
   "metadata": {},
   "source": [
    "The majority of the passengers got on the ship in \"S\""
   ]
  },
  {
   "cell_type": "code",
   "execution_count": 22,
   "id": "9171938f",
   "metadata": {},
   "outputs": [
    {
     "data": {
      "text/plain": [
       "Text(0.5, 1.0, 'Proportions of passengers with siblings and spouses')"
      ]
     },
     "execution_count": 22,
     "metadata": {},
     "output_type": "execute_result"
    },
    {
     "data": {
      "image/png": "[encoded data removed]",
      "text/plain": [
       "<Figure size 432x288 with 1 Axes>"
      ]
     },
     "metadata": {
      "needs_background": "light"
     },
     "output_type": "display_data"
    }
   ],
   "source": [
    "# Bar plots of \"SibSp\"\n",
    "sns.countplot(data=data, x=\"SibSp\" )\n",
    "plt.title(\"Proportions of passengers with siblings and spouses\")"
   ]
  },
  {
   "cell_type": "raw",
   "id": "8a868a45",
   "metadata": {},
   "source": [
    "The majority of the passengers had no siblings no spouses "
   ]
  },
  {
   "cell_type": "code",
   "execution_count": 23,
   "id": "053bf35f",
   "metadata": {},
   "outputs": [
    {
     "data": {
      "text/plain": [
       "Text(0.5, 1.0, 'Proportions of passengers with parents and children')"
      ]
     },
     "execution_count": 23,
     "metadata": {},
     "output_type": "execute_result"
    },
    {
     "data": {
      "image/png": "[encoded data removed]",
      "text/plain": [
       "<Figure size 432x288 with 1 Axes>"
      ]
     },
     "metadata": {
      "needs_background": "light"
     },
     "output_type": "display_data"
    }
   ],
   "source": [
    "# Bar plots of \"Parch\"\n",
    "sns.countplot(data=data, x=\"Parch\")\n",
    "plt.title(\"Proportions of passengers with parents and children\")"
   ]
  },
  {
   "cell_type": "raw",
   "id": "1fb833dc",
   "metadata": {},
   "source": [
    "The majority of the passengers had no Parents nor children on the Boat"
   ]
  },
  {
   "cell_type": "code",
   "execution_count": 24,
   "id": "eafb1e0c",
   "metadata": {},
   "outputs": [
    {
     "data": {
      "text/plain": [
       "Text(0.5, 1.0, 'Distribution of ages')"
      ]
     },
     "execution_count": 24,
     "metadata": {},
     "output_type": "execute_result"
    },
    {
     "data": {
      "image/png": "[encoded data removed]",
      "text/plain": [
       "<Figure size 432x288 with 1 Axes>"
      ]
     },
     "metadata": {
      "needs_background": "light"
     },
     "output_type": "display_data"
    }
   ],
   "source": [
    "# Histogram of \"Age\"\n",
    "sns.histplot(data[\"Age\"], bins=10, kde=True) \n",
    "plt.title(\"Distribution of ages\")"
   ]
  },
  {
   "cell_type": "raw",
   "id": "eefa9a06",
   "metadata": {},
   "source": [
    "The majority of the passengers were under 40"
   ]
  },
  {
   "cell_type": "code",
   "execution_count": 25,
   "id": "91438819",
   "metadata": {},
   "outputs": [
    {
     "data": {
      "text/plain": [
       "Text(0.5, 1.0, \"Distribution of tickets' prices in pounds\")"
      ]
     },
     "execution_count": 25,
     "metadata": {},
     "output_type": "execute_result"
    },
    {
     "data": {
      "image/png": "[encoded data removed]",
      "text/plain": [
       "<Figure size 432x288 with 1 Axes>"
      ]
     },
     "metadata": {
      "needs_background": "light"
     },
     "output_type": "display_data"
    }
   ],
   "source": [
    "# Histogram of \"Fare\"\n",
    "sns.histplot(data[\"Fare\"], bins=10, kde=True) \n",
    "plt.title(\"Distribution of tickets' prices in pounds\")"
   ]
  },
  {
   "cell_type": "markdown",
   "id": "581c7629",
   "metadata": {},
   "source": [
    "The ticket price had reached 500 pounds but the majority of the passengers had a ticket less than 100 pounds. A possible correlation with \"Pclass\". "
   ]
  },
  {
   "cell_type": "code",
   "execution_count": 26,
   "id": "95b7416b",
   "metadata": {},
   "outputs": [
    {
     "data": {
      "text/plain": [
       "Text(0.5, 1.0, 'Grouped Boxplots of the Age')"
      ]
     },
     "execution_count": 26,
     "metadata": {},
     "output_type": "execute_result"
    },
    {
     "data": {
      "image/png": "[encoded data removed]",
      "text/plain": [
       "<Figure size 432x288 with 1 Axes>"
      ]
     },
     "metadata": {
      "needs_background": "light"
     },
     "output_type": "display_data"
    }
   ],
   "source": [
    "# box plot of \"Age\" and \"Sex\"\n",
    "sns.boxplot(data= data, y=\"Age\", x=\"Sex\") \n",
    "plt.title(\"Grouped Boxplots of the Age\")"
   ]
  },
  {
   "cell_type": "raw",
   "id": "5cd47d4c",
   "metadata": {},
   "source": [
    "The medians of ages between men and women where equivalent on the Titanic around 29 years. "
   ]
  },
  {
   "cell_type": "code",
   "execution_count": 27,
   "id": "3b754698",
   "metadata": {},
   "outputs": [
    {
     "data": {
      "text/plain": [
       "Text(0.5, 1.0, 'Grouped Boxplot of the Age depending on the survival')"
      ]
     },
     "execution_count": 27,
     "metadata": {},
     "output_type": "execute_result"
    },
    {
     "data": {
      "image/png": "[encoded data removed]",
      "text/plain": [
       "<Figure size 432x288 with 1 Axes>"
      ]
     },
     "metadata": {
      "needs_background": "light"
     },
     "output_type": "display_data"
    }
   ],
   "source": [
    "# box plot of \"Age\" and \"Survived\"\n",
    "sns.boxplot(data= data, y=\"Age\", x=\"Survived\") \n",
    "plt.title(\"Grouped Boxplot of the Age depending on the survival\")"
   ]
  },
  {
   "cell_type": "raw",
   "id": "11b0a6ba",
   "metadata": {},
   "source": [
    "The medians of ages were also equivalent between who had survived and who had not.(29 years)"
   ]
  },
  {
   "cell_type": "code",
   "execution_count": 28,
   "id": "7c71a99a",
   "metadata": {},
   "outputs": [
    {
     "data": {
      "text/plain": [
       "Text(0.5, 1.0, 'Distribution of the survival depending on the gender')"
      ]
     },
     "execution_count": 28,
     "metadata": {},
     "output_type": "execute_result"
    },
    {
     "data": {
      "image/png": "[encoded data removed]",
      "text/plain": [
       "<Figure size 432x288 with 1 Axes>"
      ]
     },
     "metadata": {
      "needs_background": "light"
     },
     "output_type": "display_data"
    }
   ],
   "source": [
    "# bar plot of \"Sex\" and \"Survived\"\n",
    "sns.countplot(data= data, x=\"Sex\", hue=\"Survived\") \n",
    "plt.title(\"Distribution of the survival depending on the gender\")"
   ]
  },
  {
   "cell_type": "raw",
   "id": "ab14c68b",
   "metadata": {},
   "source": [
    "Most of the women has survived and most of the men perished (sad and brave!!!!)"
   ]
  },
  {
   "cell_type": "code",
   "execution_count": 29,
   "id": "93c0357a",
   "metadata": {},
   "outputs": [
    {
     "data": {
      "text/plain": [
       "Text(0.5, 1.0, 'Grouped Boxplots of the Age depending on the survival and the gender')"
      ]
     },
     "execution_count": 29,
     "metadata": {},
     "output_type": "execute_result"
    },
    {
     "data": {
      "image/png": "[encoded data removed]",
      "text/plain": [
       "<Figure size 432x288 with 1 Axes>"
      ]
     },
     "metadata": {
      "needs_background": "light"
     },
     "output_type": "display_data"
    }
   ],
   "source": [
    "# Box plot of \"Age\" and \"Survived\" depending on \"Sex\"\n",
    "sns.boxplot(data= data, y=\"Age\", x=\"Survived\", hue=\"Sex\") \n",
    "plt.legend()\n",
    "plt.title(\"Grouped Boxplots of the Age depending on the survival and the gender\")"
   ]
  },
  {
   "cell_type": "raw",
   "id": "d118971e",
   "metadata": {},
   "source": [
    "The medians of ages (29 years) did not vary with the gender between who survived and who did not."
   ]
  },
  {
   "cell_type": "code",
   "execution_count": 30,
   "id": "0a4ddb54",
   "metadata": {},
   "outputs": [
    {
     "data": {
      "text/plain": [
       "Text(0.5, 1.0, 'Boxplots of the Fare depending on the survival')"
      ]
     },
     "execution_count": 30,
     "metadata": {},
     "output_type": "execute_result"
    },
    {
     "data": {
      "image/png": "[encoded data removed]",
      "text/plain": [
       "<Figure size 432x288 with 1 Axes>"
      ]
     },
     "metadata": {
      "needs_background": "light"
     },
     "output_type": "display_data"
    }
   ],
   "source": [
    "# Box plot of \"Fare\" and \"Survived\"\n",
    "sns.boxplot(data= data, y=\"Fare\", x=\"Survived\") \n",
    "plt.title(\"Boxplots of the Fare depending on the survival\")"
   ]
  },
  {
   "cell_type": "raw",
   "id": "0be8576e",
   "metadata": {},
   "source": [
    "Those who survived had more expensive tickets that those who didn't (so sad!!!!!)"
   ]
  },
  {
   "cell_type": "code",
   "execution_count": 31,
   "id": "97f7d5e9",
   "metadata": {},
   "outputs": [
    {
     "data": {
      "text/plain": [
       "Text(0.5, 1.0, 'Survival proportions in the 3 classes')"
      ]
     },
     "execution_count": 31,
     "metadata": {},
     "output_type": "execute_result"
    },
    {
     "data": {
      "image/png": "[encoded data removed]",
      "text/plain": [
       "<Figure size 432x288 with 1 Axes>"
      ]
     },
     "metadata": {
      "needs_background": "light"
     },
     "output_type": "display_data"
    }
   ],
   "source": [
    "# Bar plot of \"Pclass\" and \"Survived\"\n",
    "sns.countplot(data= data, x=\"Pclass\", hue=\"Survived\") \n",
    "plt.title(\"Survival proportions in the 3 classes\")"
   ]
  },
  {
   "cell_type": "raw",
   "id": "fb7c267a",
   "metadata": {},
   "source": [
    "Confirmation, if you are in the first class you have more chance to survive (poor 3rd class :'( )"
   ]
  },
  {
   "cell_type": "code",
   "execution_count": 32,
   "id": "a4108b58",
   "metadata": {},
   "outputs": [
    {
     "data": {
      "text/plain": [
       "Text(0.5, 1.0, 'Survival among passensgers with spouses and siblings')"
      ]
     },
     "execution_count": 32,
     "metadata": {},
     "output_type": "execute_result"
    },
    {
     "data": {
      "image/png": "[encoded data removed]",
      "text/plain": [
       "<Figure size 432x288 with 1 Axes>"
      ]
     },
     "metadata": {
      "needs_background": "light"
     },
     "output_type": "display_data"
    }
   ],
   "source": [
    "# Bar plot of \"SibSp\" and \"Survived\"\n",
    "sns.countplot(data= data, x=\"SibSp\", hue=\"Survived\")\n",
    "plt.title(\"Survival among passensgers with spouses and siblings\")"
   ]
  },
  {
   "cell_type": "raw",
   "id": "1f1210ce",
   "metadata": {},
   "source": [
    "Passengers with no siblings nor spouses and those with more than one sibling and spouse were less likely to survive "
   ]
  },
  {
   "cell_type": "code",
   "execution_count": 33,
   "id": "03c92458",
   "metadata": {},
   "outputs": [
    {
     "data": {
      "text/plain": [
       "<matplotlib.legend.Legend at 0x21b94a6c070>"
      ]
     },
     "execution_count": 33,
     "metadata": {},
     "output_type": "execute_result"
    },
    {
     "data": {
      "image/png": "[encoded data removed]",
      "text/plain": [
       "<Figure size 432x288 with 1 Axes>"
      ]
     },
     "metadata": {
      "needs_background": "light"
     },
     "output_type": "display_data"
    }
   ],
   "source": [
    "# Bar plot of \"Parch\" and \"Survived\"\n",
    "sns.countplot(data= data, x=\"Parch\", hue=\"Survived\")\n",
    "plt.title(\"Survival among passengers with parents and children\")\n",
    "plt.legend( loc='upper right')"
   ]
  },
  {
   "cell_type": "raw",
   "id": "442cbe3b",
   "metadata": {},
   "source": [
    "Passengers with no parent nor children and those with more than one child and parent were less likely to survive. "
   ]
  },
  {
   "cell_type": "code",
   "execution_count": 34,
   "id": "c845a611",
   "metadata": {},
   "outputs": [],
   "source": [
    "def plot_correlation_map( df ):\n",
    "\n",
    "    corr = df.corr()\n",
    "\n",
    "    s , ax = plt.subplots( figsize =( 12 , 10 ) )\n",
    "\n",
    "    cmap = sns.diverging_palette( 220 , 10 , as_cmap = True )\n",
    "\n",
    "    s = sns.heatmap(\n",
    "\n",
    "        corr, \n",
    "\n",
    "        cmap = cmap,\n",
    "\n",
    "        square=True, \n",
    "\n",
    "        cbar_kws={ 'shrink' : .9 }, \n",
    "\n",
    "        ax=ax, \n",
    "\n",
    "        annot = True, \n",
    "\n",
    "        annot_kws = { 'fontsize' : 12 }\n",
    "\n",
    "        )"
   ]
  },
  {
   "cell_type": "code",
   "execution_count": 35,
   "id": "20a68693",
   "metadata": {},
   "outputs": [
    {
     "data": {
      "image/png": "[encoded data removed]",
      "text/plain": [
       "<Figure size 864x720 with 2 Axes>"
      ]
     },
     "metadata": {
      "needs_background": "light"
     },
     "output_type": "display_data"
    }
   ],
   "source": [
    "plot_correlation_map(data)"
   ]
  },
  {
   "cell_type": "raw",
   "id": "5abaf2a6",
   "metadata": {},
   "source": [
    "This function draws the srength of the correlation between the numerical variables in order to select the most important features and then to understand the data. \n",
    "Colors from pink to red indicate that there is a positive correlation between two variables. \n",
    "Colors with dark bleu indicate that there is a negative correlation.\n",
    "Light blue indicates that there is no significant correlation between two variables. "
   ]
  },
  {
   "cell_type": "raw",
   "id": "4787fde0",
   "metadata": {},
   "source": [
    "The graph shows that there is a positive correlation between \"Parch\" and \"Sibsp\", which means that if you have parents and children on the boat you are more likely to have siblings and spouses too. Family travels together!!!!\n",
    "There is a negative correlation between \"Pclass\" and \"Fare\". The first class passengers have the tickets the most expensive and vice versa for the 3rd class (so logical!!!!)\n",
    "No significative other correlation between the other variables should be considered. "
   ]
  },
  {
   "cell_type": "code",
   "execution_count": 36,
   "id": "3d701229",
   "metadata": {},
   "outputs": [
    {
     "data": {
      "text/plain": [
       "Pclass  Survived\n",
       "1       Yes         136\n",
       "        No           80\n",
       "2       No           97\n",
       "        Yes          87\n",
       "3       No          372\n",
       "        Yes         119\n",
       "Name: Survived, dtype: int64"
      ]
     },
     "execution_count": 36,
     "metadata": {},
     "output_type": "execute_result"
    }
   ],
   "source": [
    "# Counts of \"Survived\" grouped by \"Pclass\"\n",
    "data[\"Survived\"].groupby(data[\"Pclass\"]).value_counts()"
   ]
  },
  {
   "cell_type": "raw",
   "id": "7aebca75",
   "metadata": {},
   "source": [
    "\"Survived\" is a categorical variable, it should be encoded to numeric values in order to calculate the mean"
   ]
  },
  {
   "cell_type": "code",
   "execution_count": 37,
   "id": "ea499710",
   "metadata": {},
   "outputs": [],
   "source": [
    "# Encoding \"Survived\" into dummy variables in a new column named \"encoded\"\n",
    "from sklearn.preprocessing import LabelBinarizer\n",
    "labelbinarizer= LabelBinarizer()\n",
    "data[\"encoded\"]=labelbinarizer.fit_transform(data[\"Survived\"])"
   ]
  },
  {
   "cell_type": "code",
   "execution_count": 38,
   "id": "0a9c9ebf",
   "metadata": {},
   "outputs": [
    {
     "data": {
      "text/plain": [
       "Pclass\n",
       "1    0.629630\n",
       "2    0.472826\n",
       "3    0.242363\n",
       "Name: encoded, dtype: float64"
      ]
     },
     "execution_count": 38,
     "metadata": {},
     "output_type": "execute_result"
    }
   ],
   "source": [
    "# Mean of \"Survived\" grouped by \"Pclass\"\n",
    "data[\"encoded\"].groupby(data[\"Pclass\"]).mean()"
   ]
  },
  {
   "cell_type": "raw",
   "id": "ae1f5f11",
   "metadata": {},
   "source": [
    "Once again, the mean of survival was the best in 1st class and the worst in the 3rd class"
   ]
  },
  {
   "cell_type": "code",
   "execution_count": 39,
   "id": "e8dd406f",
   "metadata": {},
   "outputs": [
    {
     "data": {
      "text/html": [
       "<div>\n",
       "<style scoped>\n",
       "    .dataframe tbody tr th:only-of-type {\n",
       "        vertical-align: middle;\n",
       "    }\n",
       "\n",
       "    .dataframe tbody tr th {\n",
       "        vertical-align: top;\n",
       "    }\n",
       "\n",
       "    .dataframe thead th {\n",
       "        text-align: right;\n",
       "    }\n",
       "</style>\n",
       "<table border=\"1\" class=\"dataframe\">\n",
       "  <thead>\n",
       "    <tr style=\"text-align: right;\">\n",
       "      <th></th>\n",
       "      <th>PassengerId</th>\n",
       "      <th>Survived</th>\n",
       "      <th>Pclass</th>\n",
       "      <th>Sex</th>\n",
       "      <th>Age</th>\n",
       "      <th>SibSp</th>\n",
       "      <th>Parch</th>\n",
       "      <th>Ticket</th>\n",
       "      <th>Fare</th>\n",
       "      <th>Cabin</th>\n",
       "      <th>Embarked</th>\n",
       "      <th>encoded</th>\n",
       "    </tr>\n",
       "  </thead>\n",
       "  <tbody>\n",
       "    <tr>\n",
       "      <th>0</th>\n",
       "      <td>343</td>\n",
       "      <td>No</td>\n",
       "      <td>2</td>\n",
       "      <td>male</td>\n",
       "      <td>28.0</td>\n",
       "      <td>0</td>\n",
       "      <td>0</td>\n",
       "      <td>248740</td>\n",
       "      <td>13.0000</td>\n",
       "      <td>unknown</td>\n",
       "      <td>S</td>\n",
       "      <td>0</td>\n",
       "    </tr>\n",
       "    <tr>\n",
       "      <th>1</th>\n",
       "      <td>76</td>\n",
       "      <td>No</td>\n",
       "      <td>3</td>\n",
       "      <td>male</td>\n",
       "      <td>25.0</td>\n",
       "      <td>0</td>\n",
       "      <td>0</td>\n",
       "      <td>348123</td>\n",
       "      <td>7.6500</td>\n",
       "      <td>F G73</td>\n",
       "      <td>S</td>\n",
       "      <td>0</td>\n",
       "    </tr>\n",
       "    <tr>\n",
       "      <th>2</th>\n",
       "      <td>641</td>\n",
       "      <td>No</td>\n",
       "      <td>3</td>\n",
       "      <td>male</td>\n",
       "      <td>20.0</td>\n",
       "      <td>0</td>\n",
       "      <td>0</td>\n",
       "      <td>350050</td>\n",
       "      <td>7.8542</td>\n",
       "      <td>unknown</td>\n",
       "      <td>S</td>\n",
       "      <td>0</td>\n",
       "    </tr>\n",
       "    <tr>\n",
       "      <th>3</th>\n",
       "      <td>568</td>\n",
       "      <td>No</td>\n",
       "      <td>3</td>\n",
       "      <td>female</td>\n",
       "      <td>29.0</td>\n",
       "      <td>0</td>\n",
       "      <td>4</td>\n",
       "      <td>349909</td>\n",
       "      <td>21.0750</td>\n",
       "      <td>unknown</td>\n",
       "      <td>S</td>\n",
       "      <td>0</td>\n",
       "    </tr>\n",
       "    <tr>\n",
       "      <th>4</th>\n",
       "      <td>672</td>\n",
       "      <td>No</td>\n",
       "      <td>1</td>\n",
       "      <td>male</td>\n",
       "      <td>31.0</td>\n",
       "      <td>1</td>\n",
       "      <td>0</td>\n",
       "      <td>F.C. 12750</td>\n",
       "      <td>52.0000</td>\n",
       "      <td>B71</td>\n",
       "      <td>S</td>\n",
       "      <td>0</td>\n",
       "    </tr>\n",
       "    <tr>\n",
       "      <th>...</th>\n",
       "      <td>...</td>\n",
       "      <td>...</td>\n",
       "      <td>...</td>\n",
       "      <td>...</td>\n",
       "      <td>...</td>\n",
       "      <td>...</td>\n",
       "      <td>...</td>\n",
       "      <td>...</td>\n",
       "      <td>...</td>\n",
       "      <td>...</td>\n",
       "      <td>...</td>\n",
       "      <td>...</td>\n",
       "    </tr>\n",
       "    <tr>\n",
       "      <th>886</th>\n",
       "      <td>10</td>\n",
       "      <td>Yes</td>\n",
       "      <td>2</td>\n",
       "      <td>female</td>\n",
       "      <td>14.0</td>\n",
       "      <td>1</td>\n",
       "      <td>0</td>\n",
       "      <td>237736</td>\n",
       "      <td>30.0708</td>\n",
       "      <td>unknown</td>\n",
       "      <td>C</td>\n",
       "      <td>1</td>\n",
       "    </tr>\n",
       "    <tr>\n",
       "      <th>887</th>\n",
       "      <td>61</td>\n",
       "      <td>No</td>\n",
       "      <td>3</td>\n",
       "      <td>male</td>\n",
       "      <td>22.0</td>\n",
       "      <td>0</td>\n",
       "      <td>0</td>\n",
       "      <td>2669</td>\n",
       "      <td>7.2292</td>\n",
       "      <td>unknown</td>\n",
       "      <td>C</td>\n",
       "      <td>0</td>\n",
       "    </tr>\n",
       "    <tr>\n",
       "      <th>888</th>\n",
       "      <td>535</td>\n",
       "      <td>No</td>\n",
       "      <td>3</td>\n",
       "      <td>female</td>\n",
       "      <td>30.0</td>\n",
       "      <td>0</td>\n",
       "      <td>0</td>\n",
       "      <td>315084</td>\n",
       "      <td>8.6625</td>\n",
       "      <td>unknown</td>\n",
       "      <td>S</td>\n",
       "      <td>0</td>\n",
       "    </tr>\n",
       "    <tr>\n",
       "      <th>889</th>\n",
       "      <td>102</td>\n",
       "      <td>No</td>\n",
       "      <td>3</td>\n",
       "      <td>male</td>\n",
       "      <td>28.0</td>\n",
       "      <td>0</td>\n",
       "      <td>0</td>\n",
       "      <td>349215</td>\n",
       "      <td>7.8958</td>\n",
       "      <td>unknown</td>\n",
       "      <td>S</td>\n",
       "      <td>0</td>\n",
       "    </tr>\n",
       "    <tr>\n",
       "      <th>890</th>\n",
       "      <td>428</td>\n",
       "      <td>Yes</td>\n",
       "      <td>2</td>\n",
       "      <td>female</td>\n",
       "      <td>19.0</td>\n",
       "      <td>0</td>\n",
       "      <td>0</td>\n",
       "      <td>250655</td>\n",
       "      <td>26.0000</td>\n",
       "      <td>unknown</td>\n",
       "      <td>S</td>\n",
       "      <td>1</td>\n",
       "    </tr>\n",
       "  </tbody>\n",
       "</table>\n",
       "<p>891 rows × 12 columns</p>\n",
       "</div>"
      ],
      "text/plain": [
       "     PassengerId Survived  Pclass     Sex   Age  SibSp  Parch      Ticket  \\\n",
       "0            343       No       2    male  28.0      0      0      248740   \n",
       "1             76       No       3    male  25.0      0      0      348123   \n",
       "2            641       No       3    male  20.0      0      0      350050   \n",
       "3            568       No       3  female  29.0      0      4      349909   \n",
       "4            672       No       1    male  31.0      1      0  F.C. 12750   \n",
       "..           ...      ...     ...     ...   ...    ...    ...         ...   \n",
       "886           10      Yes       2  female  14.0      1      0      237736   \n",
       "887           61       No       3    male  22.0      0      0        2669   \n",
       "888          535       No       3  female  30.0      0      0      315084   \n",
       "889          102       No       3    male  28.0      0      0      349215   \n",
       "890          428      Yes       2  female  19.0      0      0      250655   \n",
       "\n",
       "        Fare    Cabin Embarked  encoded  \n",
       "0    13.0000  unknown        S        0  \n",
       "1     7.6500    F G73        S        0  \n",
       "2     7.8542  unknown        S        0  \n",
       "3    21.0750  unknown        S        0  \n",
       "4    52.0000      B71        S        0  \n",
       "..       ...      ...      ...      ...  \n",
       "886  30.0708  unknown        C        1  \n",
       "887   7.2292  unknown        C        0  \n",
       "888   8.6625  unknown        S        0  \n",
       "889   7.8958  unknown        S        0  \n",
       "890  26.0000  unknown        S        1  \n",
       "\n",
       "[891 rows x 12 columns]"
      ]
     },
     "execution_count": 39,
     "metadata": {},
     "output_type": "execute_result"
    }
   ],
   "source": [
    "# Drop \"Names\" from the dataset\n",
    "data.drop([\"Name\"], axis=1)"
   ]
  },
  {
   "cell_type": "code",
   "execution_count": 40,
   "id": "7ad9b105",
   "metadata": {},
   "outputs": [],
   "source": [
    "# Creating a \"Title\" column\n",
    "Title_Dictionary = {\n",
    "\n",
    "                    \"Capt\":      \"Officer\",\n",
    "\n",
    "                    \"Col\":        \"Officer\",\n",
    "\n",
    "                    \"Major\":      \"Officer\",\n",
    "\n",
    "                      \"Dr\":         \"Officer\",\n",
    "\n",
    "                    \"Rev\":        \"Officer\",\n",
    "\n",
    "                    \"Jonkheer\":   \"Royalty\",\n",
    "\n",
    "                    \"Don\":        \"Royalty\",\n",
    "\n",
    "                    \"Sir\" :       \"Royalty\",\n",
    "\n",
    "                   \"Lady\" :      \"Royalty\",\n",
    "\n",
    "                  \"Countess\" : \"Royalty\",\n",
    "\n",
    "                    \"Dona\":       \"Royalty\",\n",
    "\n",
    "                    \"Mme\":        \"Miss\",\n",
    "\n",
    "                    \"Mlle\":       \"Miss\",\n",
    "\n",
    "                    \"Miss\" :      \"Miss\",\n",
    "\n",
    "                    \"Ms\":         \"Mrs\",\n",
    "\n",
    "                    \"Mr\" :        \"Mrs\",\n",
    "\n",
    "                    \"Mrs\" :       \"Mrs\",\n",
    "\n",
    "                    \"Master\" :    \"Master\"\n",
    "\n",
    "                    }\n"
   ]
  },
  {
   "cell_type": "code",
   "execution_count": 41,
   "id": "60a12dd3",
   "metadata": {},
   "outputs": [
    {
     "data": {
      "text/plain": [
       "Mrs        643\n",
       "Miss       185\n",
       "Master      40\n",
       "Officer     18\n",
       "Royalty      5\n",
       "Name: Title, dtype: int64"
      ]
     },
     "execution_count": 41,
     "metadata": {},
     "output_type": "execute_result"
    }
   ],
   "source": [
    "def title (x):\n",
    "    for i in range (len(x.split(\" \"))):\n",
    "        if x.split(\" \")[i][-1]==\".\":\n",
    "            return Title_Dictionary[(x.split(\" \")[i][:-1])]\n",
    "\n",
    "data[\"Title\"]=data[\"Name\"].apply(title)\n",
    "data[\"Title\"].value_counts()\n",
    "    "
   ]
  },
  {
   "cell_type": "code",
   "execution_count": 42,
   "id": "d2bef432",
   "metadata": {},
   "outputs": [
    {
     "data": {
      "text/plain": [
       "Text(0.5, 1.0, 'Boxplots of the Age depending on the title')"
      ]
     },
     "execution_count": 42,
     "metadata": {},
     "output_type": "execute_result"
    },
    {
     "data": {
      "image/png": "[encoded data removed]",
      "text/plain": [
       "<Figure size 432x288 with 1 Axes>"
      ]
     },
     "metadata": {
      "needs_background": "light"
     },
     "output_type": "display_data"
    }
   ],
   "source": [
    "# box plot of \"Age\" and \"Title\"\n",
    "sns.boxplot(data=data, y=\"Age\", x=\"Title\")\n",
    "plt.title(\"Boxplots of the Age depending on the title\")"
   ]
  },
  {
   "cell_type": "raw",
   "id": "09e83332",
   "metadata": {},
   "source": [
    "Masters were the youngest passengers, Officers were the oldest"
   ]
  },
  {
   "cell_type": "code",
   "execution_count": 43,
   "id": "4131e088",
   "metadata": {},
   "outputs": [
    {
     "data": {
      "text/plain": [
       "Text(0.5, 1.0, 'Boxplot of the Fare depending on the title')"
      ]
     },
     "execution_count": 43,
     "metadata": {},
     "output_type": "execute_result"
    },
    {
     "data": {
      "image/png": "[encoded data removed]",
      "text/plain": [
       "<Figure size 432x288 with 1 Axes>"
      ]
     },
     "metadata": {
      "needs_background": "light"
     },
     "output_type": "display_data"
    }
   ],
   "source": [
    "# box plot of \"Fare\" and \"Title\"\n",
    "sns.boxplot(data=data, y=\"Fare\", x=\"Title\") \n",
    "plt.title(\"Boxplot of the Fare depending on the title\")"
   ]
  },
  {
   "cell_type": "raw",
   "id": "a15eb931",
   "metadata": {},
   "source": [
    "Royalty passengers had the most expensive tickets"
   ]
  },
  {
   "cell_type": "code",
   "execution_count": 44,
   "id": "51e2482d",
   "metadata": {},
   "outputs": [
    {
     "data": {
      "text/plain": [
       "<matplotlib.legend.Legend at 0x21b96230160>"
      ]
     },
     "execution_count": 44,
     "metadata": {},
     "output_type": "execute_result"
    },
    {
     "data": {
      "image/png": "[encoded data removed]",
      "text/plain": [
       "<Figure size 432x288 with 1 Axes>"
      ]
     },
     "metadata": {
      "needs_background": "light"
     },
     "output_type": "display_data"
    }
   ],
   "source": [
    "# bar plot of \"Sex\" and \"Title\"\n",
    "sns.countplot(data= data, hue=\"Sex\", x=\"Title\") \n",
    "plt.title(\"Gender distribution in the different titles\")\n",
    "plt.legend(loc=\"upper right\")"
   ]
  },
  {
   "cell_type": "raw",
   "id": "bd804c1a",
   "metadata": {},
   "source": [
    "There are females in \"Mrs\"?! awkward!!!!!"
   ]
  },
  {
   "cell_type": "code",
   "execution_count": 45,
   "id": "6352d89e",
   "metadata": {},
   "outputs": [
    {
     "data": {
      "text/plain": [
       "Text(0.5, 1.0, 'Survival within the different titles')"
      ]
     },
     "execution_count": 45,
     "metadata": {},
     "output_type": "execute_result"
    },
    {
     "data": {
      "image/png": "[encoded data removed]",
      "text/plain": [
       "<Figure size 432x288 with 1 Axes>"
      ]
     },
     "metadata": {
      "needs_background": "light"
     },
     "output_type": "display_data"
    }
   ],
   "source": [
    "# bar plot of \"Sex\" and \"Title\"\n",
    "sns.countplot(data= data, hue=\"Survived\", x=\"Title\") \n",
    "plt.title(\"Survival within the different titles\")"
   ]
  },
  {
   "cell_type": "raw",
   "id": "7d865f63",
   "metadata": {},
   "source": [
    "Women, royalties and Masters (Children) had better chances to survive the Titanic."
   ]
  },
  {
   "cell_type": "code",
   "execution_count": 46,
   "id": "6de64a6e",
   "metadata": {},
   "outputs": [
    {
     "data": {
      "text/plain": [
       "count    891.000000\n",
       "mean       0.904602\n",
       "std        1.613459\n",
       "min        0.000000\n",
       "25%        0.000000\n",
       "50%        0.000000\n",
       "75%        1.000000\n",
       "max       10.000000\n",
       "Name: FamilySize, dtype: float64"
      ]
     },
     "execution_count": 46,
     "metadata": {},
     "output_type": "execute_result"
    }
   ],
   "source": [
    "# Creation of \"FamilySize\" column\n",
    "data[\"FamilySize\"]= data[\"SibSp\"] + data[\"Parch\"]\n",
    "data[\"FamilySize\"].describe()"
   ]
  },
  {
   "cell_type": "code",
   "execution_count": 47,
   "id": "eb8d8168",
   "metadata": {},
   "outputs": [
    {
     "data": {
      "text/plain": [
       "Text(0.5, 1.0, 'Boxplots of the family size depending on the title')"
      ]
     },
     "execution_count": 47,
     "metadata": {},
     "output_type": "execute_result"
    },
    {
     "data": {
      "image/png": "[encoded data removed]",
      "text/plain": [
       "<Figure size 432x288 with 1 Axes>"
      ]
     },
     "metadata": {
      "needs_background": "light"
     },
     "output_type": "display_data"
    }
   ],
   "source": [
    "# box plot of \"FamilySize\" and \"Title\"\n",
    "sns.boxplot(data=data, y=\"FamilySize\", x=\"Title\") \n",
    "plt.title(\"Boxplots of the family size depending on the title\")"
   ]
  },
  {
   "cell_type": "raw",
   "id": "c91f2527",
   "metadata": {},
   "source": [
    "Masters have a bigger familySize, logical children don't travel alone!!!"
   ]
  },
  {
   "cell_type": "code",
   "execution_count": 48,
   "id": "c808b6a4",
   "metadata": {},
   "outputs": [
    {
     "data": {
      "text/plain": [
       "Text(0.5, 1.0, 'Boxplots of the family size depending on the survival')"
      ]
     },
     "execution_count": 48,
     "metadata": {},
     "output_type": "execute_result"
    },
    {
     "data": {
      "image/png": "[encoded data removed]",
      "text/plain": [
       "<Figure size 432x288 with 1 Axes>"
      ]
     },
     "metadata": {
      "needs_background": "light"
     },
     "output_type": "display_data"
    }
   ],
   "source": [
    "# box plot of \"FamilySize\" and \"Survived\"\n",
    "sns.boxplot(data=data, y=\"FamilySize\", x=\"Survived\") \n",
    "plt.title(\"Boxplots of the family size depending on the survival\")"
   ]
  },
  {
   "cell_type": "raw",
   "id": "a4b87774",
   "metadata": {},
   "source": [
    "If you travelled alone, you had less chance to survive the Titanic!!!"
   ]
  },
  {
   "cell_type": "code",
   "execution_count": 49,
   "id": "1dd39a6b",
   "metadata": {},
   "outputs": [
    {
     "data": {
      "image/png": "[encoded data removed]",
      "text/plain": [
       "<Figure size 864x720 with 2 Axes>"
      ]
     },
     "metadata": {
      "needs_background": "light"
     },
     "output_type": "display_data"
    }
   ],
   "source": [
    "plot_correlation_map(data)"
   ]
  },
  {
   "cell_type": "raw",
   "id": "36d8a7ec",
   "metadata": {},
   "source": [
    "There are no strong correlation between \"FamilySize\" and the other numerical variables except for \"Parch\" and \"SibSp\".\n",
    "Logical, those variables were used to calculate the \"FamilySize\" variable. So we can drop them and use the \"FamilySize\" instead to avoid the collinearity. "
   ]
  },
  {
   "cell_type": "markdown",
   "id": "31b91f0c",
   "metadata": {},
   "source": [
    "# Summary"
   ]
  },
  {
   "cell_type": "raw",
   "id": "46e2b5b1",
   "metadata": {},
   "source": [
    "The proportion of people who did not survived the Titanic was greater that those who survived. \n",
    "In general, the majority of the passengers:\n",
    "- was in 3rd class\n",
    "- were males\n",
    "- had no siblings nor spouses\n",
    "- had no Parents nor children on the Boat\n",
    "- was under 40\n",
    "The medians of ages (29 years) were equivalent between men and women and did not vary between who survived and who did not.\n",
    "The first-class passengers who had paid more expensive tickets had more chances to survive.\n",
    "In conclusion:\n",
    "Women, royalties and Children had better chances to survive the Titanic.\n",
    "If you were a man who travelled alone (without a family) in the 3rd class, you had less chances to survive the Titanic!!!"
   ]
  }
 ],
 "metadata": {
  "kernelspec": {
   "display_name": "Python 3",
   "language": "python",
   "name": "python3"
  },
  "language_info": {
   "codemirror_mode": {
    "name": "ipython",
    "version": 3
   },
   "file_extension": ".py",
   "mimetype": "text/x-python",
   "name": "python",
   "nbconvert_exporter": "python",
   "pygments_lexer": "ipython3",
   "version": "3.8.8"
  }
 },
 "nbformat": 4,
 "nbformat_minor": 5
}
