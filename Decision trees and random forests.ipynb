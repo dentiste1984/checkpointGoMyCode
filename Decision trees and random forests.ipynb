{
 "cells": [
  {
   "cell_type": "markdown",
   "id": "baf6f791",
   "metadata": {},
   "source": [
    "# Check point: Decision Trees & Random Forests\n",
    "\n",
    "## Ali LAMINE"
   ]
  },
  {
   "cell_type": "markdown",
   "id": "a2151483",
   "metadata": {},
   "source": [
    "We are going to predict once again if a passenger on the Titanic is going to survive. This time  using decision trees and random forests: "
   ]
  },
  {
   "cell_type": "markdown",
   "id": "83fed250",
   "metadata": {},
   "source": [
    "## 1. Read your Titanic dataset as usual: Create a training set and a testing set then apply decision tree. "
   ]
  },
  {
   "cell_type": "code",
   "execution_count": 1,
   "id": "7bbfab2d",
   "metadata": {},
   "outputs": [],
   "source": [
    "# import libraries \n",
    "import pandas as pd\n",
    "import numpy as np\n",
    "import matplotlib.pyplot as plt\n",
    "import seaborn as sns"
   ]
  },
  {
   "cell_type": "code",
   "execution_count": 2,
   "id": "83269193",
   "metadata": {},
   "outputs": [
    {
     "data": {
      "text/html": [
       "<div>\n",
       "<style scoped>\n",
       "    .dataframe tbody tr th:only-of-type {\n",
       "        vertical-align: middle;\n",
       "    }\n",
       "\n",
       "    .dataframe tbody tr th {\n",
       "        vertical-align: top;\n",
       "    }\n",
       "\n",
       "    .dataframe thead th {\n",
       "        text-align: right;\n",
       "    }\n",
       "</style>\n",
       "<table border=\"1\" class=\"dataframe\">\n",
       "  <thead>\n",
       "    <tr style=\"text-align: right;\">\n",
       "      <th></th>\n",
       "      <th>PassengerId</th>\n",
       "      <th>Survived</th>\n",
       "      <th>Pclass</th>\n",
       "      <th>Name</th>\n",
       "      <th>Sex</th>\n",
       "      <th>Age</th>\n",
       "      <th>SibSp</th>\n",
       "      <th>Parch</th>\n",
       "      <th>Ticket</th>\n",
       "      <th>Fare</th>\n",
       "      <th>Cabin</th>\n",
       "      <th>Embarked</th>\n",
       "    </tr>\n",
       "  </thead>\n",
       "  <tbody>\n",
       "    <tr>\n",
       "      <th>0</th>\n",
       "      <td>343</td>\n",
       "      <td>0</td>\n",
       "      <td>2</td>\n",
       "      <td>Collander, Mr. Erik Gustaf</td>\n",
       "      <td>1</td>\n",
       "      <td>28.0</td>\n",
       "      <td>0</td>\n",
       "      <td>0</td>\n",
       "      <td>248740</td>\n",
       "      <td>13.0000</td>\n",
       "      <td>G6</td>\n",
       "      <td>S</td>\n",
       "    </tr>\n",
       "    <tr>\n",
       "      <th>1</th>\n",
       "      <td>76</td>\n",
       "      <td>0</td>\n",
       "      <td>3</td>\n",
       "      <td>Moen, Mr. Sigurd Hansen</td>\n",
       "      <td>1</td>\n",
       "      <td>25.0</td>\n",
       "      <td>0</td>\n",
       "      <td>0</td>\n",
       "      <td>348123</td>\n",
       "      <td>7.6500</td>\n",
       "      <td>F G73</td>\n",
       "      <td>S</td>\n",
       "    </tr>\n",
       "    <tr>\n",
       "      <th>2</th>\n",
       "      <td>641</td>\n",
       "      <td>0</td>\n",
       "      <td>3</td>\n",
       "      <td>Jensen, Mr. Hans Peder</td>\n",
       "      <td>1</td>\n",
       "      <td>20.0</td>\n",
       "      <td>0</td>\n",
       "      <td>0</td>\n",
       "      <td>350050</td>\n",
       "      <td>7.8542</td>\n",
       "      <td>G6</td>\n",
       "      <td>S</td>\n",
       "    </tr>\n",
       "    <tr>\n",
       "      <th>3</th>\n",
       "      <td>568</td>\n",
       "      <td>0</td>\n",
       "      <td>3</td>\n",
       "      <td>Palsson, Mrs. Nils (Alma Cornelia Berglund)</td>\n",
       "      <td>0</td>\n",
       "      <td>29.0</td>\n",
       "      <td>0</td>\n",
       "      <td>4</td>\n",
       "      <td>349909</td>\n",
       "      <td>21.0750</td>\n",
       "      <td>G6</td>\n",
       "      <td>S</td>\n",
       "    </tr>\n",
       "    <tr>\n",
       "      <th>4</th>\n",
       "      <td>672</td>\n",
       "      <td>0</td>\n",
       "      <td>1</td>\n",
       "      <td>Davidson, Mr. Thornton</td>\n",
       "      <td>1</td>\n",
       "      <td>31.0</td>\n",
       "      <td>1</td>\n",
       "      <td>0</td>\n",
       "      <td>F.C. 12750</td>\n",
       "      <td>52.0000</td>\n",
       "      <td>B71</td>\n",
       "      <td>S</td>\n",
       "    </tr>\n",
       "  </tbody>\n",
       "</table>\n",
       "</div>"
      ],
      "text/plain": [
       "   PassengerId  Survived  Pclass                                         Name  \\\n",
       "0          343         0       2                   Collander, Mr. Erik Gustaf   \n",
       "1           76         0       3                      Moen, Mr. Sigurd Hansen   \n",
       "2          641         0       3                       Jensen, Mr. Hans Peder   \n",
       "3          568         0       3  Palsson, Mrs. Nils (Alma Cornelia Berglund)   \n",
       "4          672         0       1                       Davidson, Mr. Thornton   \n",
       "\n",
       "   Sex   Age  SibSp  Parch      Ticket     Fare  Cabin Embarked  \n",
       "0    1  28.0      0      0      248740  13.0000     G6        S  \n",
       "1    1  25.0      0      0      348123   7.6500  F G73        S  \n",
       "2    1  20.0      0      0      350050   7.8542     G6        S  \n",
       "3    0  29.0      0      4      349909  21.0750     G6        S  \n",
       "4    1  31.0      1      0  F.C. 12750  52.0000    B71        S  "
      ]
     },
     "execution_count": 2,
     "metadata": {},
     "output_type": "execute_result"
    }
   ],
   "source": [
    "# import dataset\n",
    "data= pd.read_csv(\"C:/Users/LENOVO/Desktop/titanic-passengers.csv\", sep=\";\")\n",
    "# preprocessing the data\n",
    "def preprocess(new_data):\n",
    "    new_data[\"Age\"].fillna(new_data[\"Age\"].mean(), inplace=True)\n",
    "    new_data.replace({\"Sex\":{\"male\":1, \"female\":0}}, inplace=True)\n",
    "    new_data[\"Cabin\"]=new_data[\"Cabin\"].fillna(\"G6\")\n",
    "    new_data.replace({\"Survived\":{\"Yes\":1, \"No\":0}}, inplace=True)\n",
    "    return new_data\n",
    "\n",
    "data=preprocess(data)\n",
    "data.head()"
   ]
  },
  {
   "cell_type": "code",
   "execution_count": 3,
   "id": "cec9d7f9",
   "metadata": {},
   "outputs": [],
   "source": [
    "# Creating a \"Title\" column\n",
    "Title_Dictionary = {\n",
    "\n",
    "                    \"Capt\":      \"Officer\",\n",
    "\n",
    "                    \"Col\":        \"Officer\",\n",
    "\n",
    "                    \"Major\":      \"Officer\",\n",
    "\n",
    "                      \"Dr\":         \"Officer\",\n",
    "\n",
    "                    \"Rev\":        \"Officer\",\n",
    "\n",
    "                    \"Jonkheer\":   \"Royalty\",\n",
    "\n",
    "                    \"Don\":        \"Royalty\",\n",
    "\n",
    "                    \"Sir\" :       \"Royalty\",\n",
    "\n",
    "                   \"Lady\" :      \"Royalty\",\n",
    "\n",
    "                  \"Countess\" : \"Royalty\",\n",
    "\n",
    "                    \"Dona\":       \"Royalty\",\n",
    "\n",
    "                    \"Mme\":        \"Miss\",\n",
    "\n",
    "                    \"Mlle\":       \"Miss\",\n",
    "\n",
    "                    \"Miss\" :      \"Miss\",\n",
    "\n",
    "                    \"Ms\":         \"Mrs\",\n",
    "\n",
    "                    \"Mr\" :        \"Mrs\",\n",
    "\n",
    "                    \"Mrs\" :       \"Mrs\",\n",
    "\n",
    "                    \"Master\" :    \"Master\"\n",
    "\n",
    "                    }\n",
    "def title (x):\n",
    "    for i in range (len(x.split(\" \"))):\n",
    "        if x.split(\" \")[i][-1]==\".\":\n",
    "            return Title_Dictionary[(x.split(\" \")[i][:-1])]\n",
    "\n",
    "data[\"Title\"]=data[\"Name\"].apply(title)"
   ]
  },
  {
   "cell_type": "code",
   "execution_count": 4,
   "id": "01ad6030",
   "metadata": {},
   "outputs": [],
   "source": [
    "# Creation of \"FamilySize\" column\n",
    "data[\"FamilySize\"]= data[\"SibSp\"] + data[\"Parch\"]"
   ]
  },
  {
   "cell_type": "code",
   "execution_count": 5,
   "id": "8a5bd843",
   "metadata": {},
   "outputs": [],
   "source": [
    "# import relevant librairies\n",
    "from sklearn.model_selection import train_test_split\n",
    "from sklearn import tree\n",
    "from sklearn.tree import DecisionTreeClassifier\n",
    "from sklearn import metrics\n",
    "from sklearn.metrics import classification_report, accuracy_score"
   ]
  },
  {
   "cell_type": "code",
   "execution_count": 6,
   "id": "77d6fd74",
   "metadata": {},
   "outputs": [],
   "source": [
    "# features extraction\n",
    "x=data[[\"Pclass\",\"Sex\",\"Age\",\"SibSp\",\"Parch\",\"Fare\"]]\n",
    "y=data[\"Survived\"].values"
   ]
  },
  {
   "cell_type": "code",
   "execution_count": 16,
   "id": "d8637fef",
   "metadata": {},
   "outputs": [
    {
     "name": "stdout",
     "output_type": "stream",
     "text": [
      "Accuracry=0.85\n"
     ]
    }
   ],
   "source": [
    "# splitting the data with test size of 25%\n",
    "x_train,x_test,y_train,y_test= train_test_split(x,y, test_size=0.25, random_state=0)\n",
    "# applying the algorithm\n",
    "clf=DecisionTreeClassifier(max_depth=3)\n",
    "# fitting the training data\n",
    "clf.fit(x_train,y_train)\n",
    "# testing the model's performance\n",
    "y_pred=clf.predict(x_test)\n",
    "print(\"Accuracry={:.2f}\".format(accuracy_score(y_test,y_pred)))"
   ]
  },
  {
   "cell_type": "markdown",
   "id": "7d5c1382",
   "metadata": {},
   "source": [
    "## 2. Plot your decision tree and try to read the tree branches and conclude a prediction manually."
   ]
  },
  {
   "cell_type": "code",
   "execution_count": 17,
   "id": "3e79d3e6",
   "metadata": {},
   "outputs": [
    {
     "data": {
      "image/svg+xml": [
       "<?xml version=\"1.0\" encoding=\"UTF-8\" standalone=\"no\"?>\r\n",
       "<!DOCTYPE svg PUBLIC \"-//W3C//DTD SVG 1.1//EN\"\r\n",
       " \"http://www.w3.org/Graphics/SVG/1.1/DTD/svg11.dtd\">\r\n",
       "<!-- Generated by graphviz version 2.38.0 (20140413.2041)\r\n",
       " -->\r\n",
       "<!-- Title: Tree Pages: 1 -->\r\n",
       "<svg width=\"937pt\" height=\"373pt\"\r\n",
       " viewBox=\"0.00 0.00 937.00 373.00\" xmlns=\"http://www.w3.org/2000/svg\" xmlns:xlink=\"http://www.w3.org/1999/xlink\">\r\n",
       "<g id=\"graph0\" class=\"graph\" transform=\"scale(1 1) rotate(0) translate(4 369)\">\r\n",
       "<title>Tree</title>\r\n",
       "<polygon fill=\"white\" stroke=\"none\" points=\"-4,4 -4,-369 933,-369 933,4 -4,4\"/>\r\n",
       "<!-- 0 -->\r\n",
       "<g id=\"node1\" class=\"node\"><title>0</title>\r\n",
       "<polygon fill=\"#f6d3ba\" stroke=\"black\" points=\"512.5,-365 394.5,-365 394.5,-297 512.5,-297 512.5,-365\"/>\r\n",
       "<text text-anchor=\"middle\" x=\"453.5\" y=\"-349.8\" font-family=\"Times New Roman,serif\" font-size=\"14.00\">Sex &lt;= 0.5</text>\r\n",
       "<text text-anchor=\"middle\" x=\"453.5\" y=\"-334.8\" font-family=\"Times New Roman,serif\" font-size=\"14.00\">gini = 0.477</text>\r\n",
       "<text text-anchor=\"middle\" x=\"453.5\" y=\"-319.8\" font-family=\"Times New Roman,serif\" font-size=\"14.00\">samples = 668</text>\r\n",
       "<text text-anchor=\"middle\" x=\"453.5\" y=\"-304.8\" font-family=\"Times New Roman,serif\" font-size=\"14.00\">value = [405, 263]</text>\r\n",
       "</g>\r\n",
       "<!-- 1 -->\r\n",
       "<g id=\"node2\" class=\"node\"><title>1</title>\r\n",
       "<polygon fill=\"#82c1ef\" stroke=\"black\" points=\"392,-261 281,-261 281,-193 392,-193 392,-261\"/>\r\n",
       "<text text-anchor=\"middle\" x=\"336.5\" y=\"-245.8\" font-family=\"Times New Roman,serif\" font-size=\"14.00\">Pclass &lt;= 2.5</text>\r\n",
       "<text text-anchor=\"middle\" x=\"336.5\" y=\"-230.8\" font-family=\"Times New Roman,serif\" font-size=\"14.00\">gini = 0.395</text>\r\n",
       "<text text-anchor=\"middle\" x=\"336.5\" y=\"-215.8\" font-family=\"Times New Roman,serif\" font-size=\"14.00\">samples = 244</text>\r\n",
       "<text text-anchor=\"middle\" x=\"336.5\" y=\"-200.8\" font-family=\"Times New Roman,serif\" font-size=\"14.00\">value = [66, 178]</text>\r\n",
       "</g>\r\n",
       "<!-- 0&#45;&gt;1 -->\r\n",
       "<g id=\"edge1\" class=\"edge\"><title>0&#45;&gt;1</title>\r\n",
       "<path fill=\"none\" stroke=\"black\" d=\"M415.513,-296.884C404.99,-287.709 393.452,-277.65 382.523,-268.123\"/>\r\n",
       "<polygon fill=\"black\" stroke=\"black\" points=\"384.534,-265.233 374.696,-261.299 379.934,-270.509 384.534,-265.233\"/>\r\n",
       "<text text-anchor=\"middle\" x=\"376.405\" y=\"-282.541\" font-family=\"Times New Roman,serif\" font-size=\"14.00\">True</text>\r\n",
       "</g>\r\n",
       "<!-- 8 -->\r\n",
       "<g id=\"node9\" class=\"node\"><title>8</title>\r\n",
       "<polygon fill=\"#eca16b\" stroke=\"black\" points=\"627,-261 516,-261 516,-193 627,-193 627,-261\"/>\r\n",
       "<text text-anchor=\"middle\" x=\"571.5\" y=\"-245.8\" font-family=\"Times New Roman,serif\" font-size=\"14.00\">Age &lt;= 6.5</text>\r\n",
       "<text text-anchor=\"middle\" x=\"571.5\" y=\"-230.8\" font-family=\"Times New Roman,serif\" font-size=\"14.00\">gini = 0.321</text>\r\n",
       "<text text-anchor=\"middle\" x=\"571.5\" y=\"-215.8\" font-family=\"Times New Roman,serif\" font-size=\"14.00\">samples = 424</text>\r\n",
       "<text text-anchor=\"middle\" x=\"571.5\" y=\"-200.8\" font-family=\"Times New Roman,serif\" font-size=\"14.00\">value = [339, 85]</text>\r\n",
       "</g>\r\n",
       "<!-- 0&#45;&gt;8 -->\r\n",
       "<g id=\"edge8\" class=\"edge\"><title>0&#45;&gt;8</title>\r\n",
       "<path fill=\"none\" stroke=\"black\" d=\"M491.811,-296.884C502.528,-287.62 514.288,-277.455 525.404,-267.845\"/>\r\n",
       "<polygon fill=\"black\" stroke=\"black\" points=\"527.701,-270.487 532.977,-261.299 523.123,-265.191 527.701,-270.487\"/>\r\n",
       "<text text-anchor=\"middle\" x=\"531.164\" y=\"-282.534\" font-family=\"Times New Roman,serif\" font-size=\"14.00\">False</text>\r\n",
       "</g>\r\n",
       "<!-- 2 -->\r\n",
       "<g id=\"node3\" class=\"node\"><title>2</title>\r\n",
       "<polygon fill=\"#46a3e7\" stroke=\"black\" points=\"213.5,-157 109.5,-157 109.5,-89 213.5,-89 213.5,-157\"/>\r\n",
       "<text text-anchor=\"middle\" x=\"161.5\" y=\"-141.8\" font-family=\"Times New Roman,serif\" font-size=\"14.00\">Age &lt;= 3.0</text>\r\n",
       "<text text-anchor=\"middle\" x=\"161.5\" y=\"-126.8\" font-family=\"Times New Roman,serif\" font-size=\"14.00\">gini = 0.113</text>\r\n",
       "<text text-anchor=\"middle\" x=\"161.5\" y=\"-111.8\" font-family=\"Times New Roman,serif\" font-size=\"14.00\">samples = 133</text>\r\n",
       "<text text-anchor=\"middle\" x=\"161.5\" y=\"-96.8\" font-family=\"Times New Roman,serif\" font-size=\"14.00\">value = [8, 125]</text>\r\n",
       "</g>\r\n",
       "<!-- 1&#45;&gt;2 -->\r\n",
       "<g id=\"edge2\" class=\"edge\"><title>1&#45;&gt;2</title>\r\n",
       "<path fill=\"none\" stroke=\"black\" d=\"M280.648,-193.446C262.082,-182.625 241.319,-170.523 222.392,-159.491\"/>\r\n",
       "<polygon fill=\"black\" stroke=\"black\" points=\"223.955,-156.351 213.553,-154.34 220.43,-162.399 223.955,-156.351\"/>\r\n",
       "</g>\r\n",
       "<!-- 5 -->\r\n",
       "<g id=\"node6\" class=\"node\"><title>5</title>\r\n",
       "<polygon fill=\"#fdf4ee\" stroke=\"black\" points=\"388.5,-157 284.5,-157 284.5,-89 388.5,-89 388.5,-157\"/>\r\n",
       "<text text-anchor=\"middle\" x=\"336.5\" y=\"-141.8\" font-family=\"Times New Roman,serif\" font-size=\"14.00\">Fare &lt;= 24.808</text>\r\n",
       "<text text-anchor=\"middle\" x=\"336.5\" y=\"-126.8\" font-family=\"Times New Roman,serif\" font-size=\"14.00\">gini = 0.499</text>\r\n",
       "<text text-anchor=\"middle\" x=\"336.5\" y=\"-111.8\" font-family=\"Times New Roman,serif\" font-size=\"14.00\">samples = 111</text>\r\n",
       "<text text-anchor=\"middle\" x=\"336.5\" y=\"-96.8\" font-family=\"Times New Roman,serif\" font-size=\"14.00\">value = [58, 53]</text>\r\n",
       "</g>\r\n",
       "<!-- 1&#45;&gt;5 -->\r\n",
       "<g id=\"edge5\" class=\"edge\"><title>1&#45;&gt;5</title>\r\n",
       "<path fill=\"none\" stroke=\"black\" d=\"M336.5,-192.884C336.5,-184.778 336.5,-175.982 336.5,-167.472\"/>\r\n",
       "<polygon fill=\"black\" stroke=\"black\" points=\"340,-167.299 336.5,-157.299 333,-167.299 340,-167.299\"/>\r\n",
       "</g>\r\n",
       "<!-- 3 -->\r\n",
       "<g id=\"node4\" class=\"node\"><title>3</title>\r\n",
       "<polygon fill=\"#ffffff\" stroke=\"black\" points=\"91,-53 0,-53 0,-0 91,-0 91,-53\"/>\r\n",
       "<text text-anchor=\"middle\" x=\"45.5\" y=\"-37.8\" font-family=\"Times New Roman,serif\" font-size=\"14.00\">gini = 0.5</text>\r\n",
       "<text text-anchor=\"middle\" x=\"45.5\" y=\"-22.8\" font-family=\"Times New Roman,serif\" font-size=\"14.00\">samples = 2</text>\r\n",
       "<text text-anchor=\"middle\" x=\"45.5\" y=\"-7.8\" font-family=\"Times New Roman,serif\" font-size=\"14.00\">value = [1, 1]</text>\r\n",
       "</g>\r\n",
       "<!-- 2&#45;&gt;3 -->\r\n",
       "<g id=\"edge3\" class=\"edge\"><title>2&#45;&gt;3</title>\r\n",
       "<path fill=\"none\" stroke=\"black\" d=\"M120.929,-88.9485C109.25,-79.4346 96.5326,-69.074 84.9247,-59.6175\"/>\r\n",
       "<polygon fill=\"black\" stroke=\"black\" points=\"87.0557,-56.8392 77.0921,-53.2367 82.6345,-62.2663 87.0557,-56.8392\"/>\r\n",
       "</g>\r\n",
       "<!-- 4 -->\r\n",
       "<g id=\"node5\" class=\"node\"><title>4</title>\r\n",
       "<polygon fill=\"#44a3e6\" stroke=\"black\" points=\"213.5,-53 109.5,-53 109.5,-0 213.5,-0 213.5,-53\"/>\r\n",
       "<text text-anchor=\"middle\" x=\"161.5\" y=\"-37.8\" font-family=\"Times New Roman,serif\" font-size=\"14.00\">gini = 0.101</text>\r\n",
       "<text text-anchor=\"middle\" x=\"161.5\" y=\"-22.8\" font-family=\"Times New Roman,serif\" font-size=\"14.00\">samples = 131</text>\r\n",
       "<text text-anchor=\"middle\" x=\"161.5\" y=\"-7.8\" font-family=\"Times New Roman,serif\" font-size=\"14.00\">value = [7, 124]</text>\r\n",
       "</g>\r\n",
       "<!-- 2&#45;&gt;4 -->\r\n",
       "<g id=\"edge4\" class=\"edge\"><title>2&#45;&gt;4</title>\r\n",
       "<path fill=\"none\" stroke=\"black\" d=\"M161.5,-88.9485C161.5,-80.7153 161.5,-71.848 161.5,-63.4814\"/>\r\n",
       "<polygon fill=\"black\" stroke=\"black\" points=\"165,-63.2367 161.5,-53.2367 158,-63.2367 165,-63.2367\"/>\r\n",
       "</g>\r\n",
       "<!-- 6 -->\r\n",
       "<g id=\"node7\" class=\"node\"><title>6</title>\r\n",
       "<polygon fill=\"#d9ecfa\" stroke=\"black\" points=\"335.5,-53 231.5,-53 231.5,-0 335.5,-0 335.5,-53\"/>\r\n",
       "<text text-anchor=\"middle\" x=\"283.5\" y=\"-37.8\" font-family=\"Times New Roman,serif\" font-size=\"14.00\">gini = 0.494</text>\r\n",
       "<text text-anchor=\"middle\" x=\"283.5\" y=\"-22.8\" font-family=\"Times New Roman,serif\" font-size=\"14.00\">samples = 94</text>\r\n",
       "<text text-anchor=\"middle\" x=\"283.5\" y=\"-7.8\" font-family=\"Times New Roman,serif\" font-size=\"14.00\">value = [42, 52]</text>\r\n",
       "</g>\r\n",
       "<!-- 5&#45;&gt;6 -->\r\n",
       "<g id=\"edge6\" class=\"edge\"><title>5&#45;&gt;6</title>\r\n",
       "<path fill=\"none\" stroke=\"black\" d=\"M317.963,-88.9485C313.089,-80.2579 307.819,-70.8608 302.901,-62.0917\"/>\r\n",
       "<polygon fill=\"black\" stroke=\"black\" points=\"305.879,-60.2465 297.934,-53.2367 299.773,-63.6707 305.879,-60.2465\"/>\r\n",
       "</g>\r\n",
       "<!-- 7 -->\r\n",
       "<g id=\"node8\" class=\"node\"><title>7</title>\r\n",
       "<polygon fill=\"#e78945\" stroke=\"black\" points=\"451.5,-53 353.5,-53 353.5,-0 451.5,-0 451.5,-53\"/>\r\n",
       "<text text-anchor=\"middle\" x=\"402.5\" y=\"-37.8\" font-family=\"Times New Roman,serif\" font-size=\"14.00\">gini = 0.111</text>\r\n",
       "<text text-anchor=\"middle\" x=\"402.5\" y=\"-22.8\" font-family=\"Times New Roman,serif\" font-size=\"14.00\">samples = 17</text>\r\n",
       "<text text-anchor=\"middle\" x=\"402.5\" y=\"-7.8\" font-family=\"Times New Roman,serif\" font-size=\"14.00\">value = [16, 1]</text>\r\n",
       "</g>\r\n",
       "<!-- 5&#45;&gt;7 -->\r\n",
       "<g id=\"edge7\" class=\"edge\"><title>5&#45;&gt;7</title>\r\n",
       "<path fill=\"none\" stroke=\"black\" d=\"M359.584,-88.9485C365.781,-80.0749 372.493,-70.4648 378.727,-61.5388\"/>\r\n",
       "<polygon fill=\"black\" stroke=\"black\" points=\"381.669,-63.4392 384.525,-53.2367 375.93,-59.4311 381.669,-63.4392\"/>\r\n",
       "</g>\r\n",
       "<!-- 9 -->\r\n",
       "<g id=\"node10\" class=\"node\"><title>9</title>\r\n",
       "<polygon fill=\"#76bbed\" stroke=\"black\" points=\"620.5,-157 522.5,-157 522.5,-89 620.5,-89 620.5,-157\"/>\r\n",
       "<text text-anchor=\"middle\" x=\"571.5\" y=\"-141.8\" font-family=\"Times New Roman,serif\" font-size=\"14.00\">SibSp &lt;= 2.5</text>\r\n",
       "<text text-anchor=\"middle\" x=\"571.5\" y=\"-126.8\" font-family=\"Times New Roman,serif\" font-size=\"14.00\">gini = 0.36</text>\r\n",
       "<text text-anchor=\"middle\" x=\"571.5\" y=\"-111.8\" font-family=\"Times New Roman,serif\" font-size=\"14.00\">samples = 17</text>\r\n",
       "<text text-anchor=\"middle\" x=\"571.5\" y=\"-96.8\" font-family=\"Times New Roman,serif\" font-size=\"14.00\">value = [4, 13]</text>\r\n",
       "</g>\r\n",
       "<!-- 8&#45;&gt;9 -->\r\n",
       "<g id=\"edge9\" class=\"edge\"><title>8&#45;&gt;9</title>\r\n",
       "<path fill=\"none\" stroke=\"black\" d=\"M571.5,-192.884C571.5,-184.778 571.5,-175.982 571.5,-167.472\"/>\r\n",
       "<polygon fill=\"black\" stroke=\"black\" points=\"575,-167.299 571.5,-157.299 568,-167.299 575,-167.299\"/>\r\n",
       "</g>\r\n",
       "<!-- 12 -->\r\n",
       "<g id=\"node13\" class=\"node\"><title>12</title>\r\n",
       "<polygon fill=\"#eb9c64\" stroke=\"black\" points=\"803,-157 692,-157 692,-89 803,-89 803,-157\"/>\r\n",
       "<text text-anchor=\"middle\" x=\"747.5\" y=\"-141.8\" font-family=\"Times New Roman,serif\" font-size=\"14.00\">Pclass &lt;= 1.5</text>\r\n",
       "<text text-anchor=\"middle\" x=\"747.5\" y=\"-126.8\" font-family=\"Times New Roman,serif\" font-size=\"14.00\">gini = 0.291</text>\r\n",
       "<text text-anchor=\"middle\" x=\"747.5\" y=\"-111.8\" font-family=\"Times New Roman,serif\" font-size=\"14.00\">samples = 407</text>\r\n",
       "<text text-anchor=\"middle\" x=\"747.5\" y=\"-96.8\" font-family=\"Times New Roman,serif\" font-size=\"14.00\">value = [335, 72]</text>\r\n",
       "</g>\r\n",
       "<!-- 8&#45;&gt;12 -->\r\n",
       "<g id=\"edge12\" class=\"edge\"><title>8&#45;&gt;12</title>\r\n",
       "<path fill=\"none\" stroke=\"black\" d=\"M627.188,-193.727C644.929,-183.444 664.706,-171.983 683.017,-161.371\"/>\r\n",
       "<polygon fill=\"black\" stroke=\"black\" points=\"684.976,-164.281 691.873,-156.238 681.466,-158.224 684.976,-164.281\"/>\r\n",
       "</g>\r\n",
       "<!-- 10 -->\r\n",
       "<g id=\"node11\" class=\"node\"><title>10</title>\r\n",
       "<polygon fill=\"#399de5\" stroke=\"black\" points=\"567.5,-53 469.5,-53 469.5,-0 567.5,-0 567.5,-53\"/>\r\n",
       "<text text-anchor=\"middle\" x=\"518.5\" y=\"-37.8\" font-family=\"Times New Roman,serif\" font-size=\"14.00\">gini = 0.0</text>\r\n",
       "<text text-anchor=\"middle\" x=\"518.5\" y=\"-22.8\" font-family=\"Times New Roman,serif\" font-size=\"14.00\">samples = 12</text>\r\n",
       "<text text-anchor=\"middle\" x=\"518.5\" y=\"-7.8\" font-family=\"Times New Roman,serif\" font-size=\"14.00\">value = [0, 12]</text>\r\n",
       "</g>\r\n",
       "<!-- 9&#45;&gt;10 -->\r\n",
       "<g id=\"edge10\" class=\"edge\"><title>9&#45;&gt;10</title>\r\n",
       "<path fill=\"none\" stroke=\"black\" d=\"M552.963,-88.9485C548.089,-80.2579 542.819,-70.8608 537.901,-62.0917\"/>\r\n",
       "<polygon fill=\"black\" stroke=\"black\" points=\"540.879,-60.2465 532.934,-53.2367 534.773,-63.6707 540.879,-60.2465\"/>\r\n",
       "</g>\r\n",
       "<!-- 11 -->\r\n",
       "<g id=\"node12\" class=\"node\"><title>11</title>\r\n",
       "<polygon fill=\"#eca06a\" stroke=\"black\" points=\"677,-53 586,-53 586,-0 677,-0 677,-53\"/>\r\n",
       "<text text-anchor=\"middle\" x=\"631.5\" y=\"-37.8\" font-family=\"Times New Roman,serif\" font-size=\"14.00\">gini = 0.32</text>\r\n",
       "<text text-anchor=\"middle\" x=\"631.5\" y=\"-22.8\" font-family=\"Times New Roman,serif\" font-size=\"14.00\">samples = 5</text>\r\n",
       "<text text-anchor=\"middle\" x=\"631.5\" y=\"-7.8\" font-family=\"Times New Roman,serif\" font-size=\"14.00\">value = [4, 1]</text>\r\n",
       "</g>\r\n",
       "<!-- 9&#45;&gt;11 -->\r\n",
       "<g id=\"edge11\" class=\"edge\"><title>9&#45;&gt;11</title>\r\n",
       "<path fill=\"none\" stroke=\"black\" d=\"M592.485,-88.9485C598.061,-80.1664 604.095,-70.6629 609.713,-61.815\"/>\r\n",
       "<polygon fill=\"black\" stroke=\"black\" points=\"612.754,-63.5549 615.159,-53.2367 606.844,-59.8028 612.754,-63.5549\"/>\r\n",
       "</g>\r\n",
       "<!-- 13 -->\r\n",
       "<g id=\"node14\" class=\"node\"><title>13</title>\r\n",
       "<polygon fill=\"#f7dac5\" stroke=\"black\" points=\"799.5,-53 695.5,-53 695.5,-0 799.5,-0 799.5,-53\"/>\r\n",
       "<text text-anchor=\"middle\" x=\"747.5\" y=\"-37.8\" font-family=\"Times New Roman,serif\" font-size=\"14.00\">gini = 0.485</text>\r\n",
       "<text text-anchor=\"middle\" x=\"747.5\" y=\"-22.8\" font-family=\"Times New Roman,serif\" font-size=\"14.00\">samples = 87</text>\r\n",
       "<text text-anchor=\"middle\" x=\"747.5\" y=\"-7.8\" font-family=\"Times New Roman,serif\" font-size=\"14.00\">value = [51, 36]</text>\r\n",
       "</g>\r\n",
       "<!-- 12&#45;&gt;13 -->\r\n",
       "<g id=\"edge13\" class=\"edge\"><title>12&#45;&gt;13</title>\r\n",
       "<path fill=\"none\" stroke=\"black\" d=\"M747.5,-88.9485C747.5,-80.7153 747.5,-71.848 747.5,-63.4814\"/>\r\n",
       "<polygon fill=\"black\" stroke=\"black\" points=\"751,-63.2367 747.5,-53.2367 744,-63.2367 751,-63.2367\"/>\r\n",
       "</g>\r\n",
       "<!-- 14 -->\r\n",
       "<g id=\"node15\" class=\"node\"><title>14</title>\r\n",
       "<polygon fill=\"#e89152\" stroke=\"black\" points=\"929,-53 818,-53 818,-0 929,-0 929,-53\"/>\r\n",
       "<text text-anchor=\"middle\" x=\"873.5\" y=\"-37.8\" font-family=\"Times New Roman,serif\" font-size=\"14.00\">gini = 0.2</text>\r\n",
       "<text text-anchor=\"middle\" x=\"873.5\" y=\"-22.8\" font-family=\"Times New Roman,serif\" font-size=\"14.00\">samples = 320</text>\r\n",
       "<text text-anchor=\"middle\" x=\"873.5\" y=\"-7.8\" font-family=\"Times New Roman,serif\" font-size=\"14.00\">value = [284, 36]</text>\r\n",
       "</g>\r\n",
       "<!-- 12&#45;&gt;14 -->\r\n",
       "<g id=\"edge14\" class=\"edge\"><title>12&#45;&gt;14</title>\r\n",
       "<path fill=\"none\" stroke=\"black\" d=\"M791.569,-88.9485C804.376,-79.3431 818.334,-68.8747 831.04,-59.345\"/>\r\n",
       "<polygon fill=\"black\" stroke=\"black\" points=\"833.284,-62.0368 839.184,-53.2367 829.084,-56.4367 833.284,-62.0368\"/>\r\n",
       "</g>\r\n",
       "</g>\r\n",
       "</svg>\r\n"
      ],
      "text/plain": [
       "<graphviz.files.Source at 0x20eaddf7fa0>"
      ]
     },
     "execution_count": 17,
     "metadata": {},
     "output_type": "execute_result"
    }
   ],
   "source": [
    "import graphviz\n",
    "# DOT data\n",
    "dot_data = tree.export_graphviz(clf, out_file=None, \n",
    "                                feature_names=x_train.columns,\n",
    "                                filled=True)\n",
    "\n",
    "# Draw graph\n",
    "graph = graphviz.Source(dot_data, format=\"png\") \n",
    "graph"
   ]
  },
  {
   "cell_type": "markdown",
   "id": "c08088ce",
   "metadata": {},
   "source": [
    "If you are a man with an age>6.5 and in Pclass>1,5 you are more likely to die!!! \n",
    "if you are a women in second or first class with an age >3, you are more likely to live!!!"
   ]
  },
  {
   "cell_type": "markdown",
   "id": "d77a9192",
   "metadata": {},
   "source": [
    "## 3. Change the decision tree parameters(at least two parameters). "
   ]
  },
  {
   "cell_type": "code",
   "execution_count": 21,
   "id": "2e390b75",
   "metadata": {},
   "outputs": [],
   "source": [
    "# changing the decision tree parapeters\n",
    "clf=DecisionTreeClassifier(max_depth=5, max_leaf_nodes=12, criterion=\"entropy\")"
   ]
  },
  {
   "cell_type": "markdown",
   "id": "2ec78338",
   "metadata": {},
   "source": [
    "## 4. Calculate the new accuracy and compare it with the previous results. "
   ]
  },
  {
   "cell_type": "code",
   "execution_count": 22,
   "id": "42e27d8e",
   "metadata": {},
   "outputs": [
    {
     "name": "stdout",
     "output_type": "stream",
     "text": [
      "Accuracry=0.83\n"
     ]
    }
   ],
   "source": [
    "# fitting the training data\n",
    "clf.fit(x_train,y_train)\n",
    "# testing the model's performance\n",
    "y_pred=clf.predict(x_test)\n",
    "print(\"Accuracry={:.2f}\".format(accuracy_score(y_test,y_pred)))"
   ]
  },
  {
   "cell_type": "markdown",
   "id": "0381d960",
   "metadata": {},
   "source": [
    "Accuracy has dropped from 0.85 to 0.83 when we fixed max_depth=5 , max_leaf_nodes=12 and criterion=\"entropy\""
   ]
  },
  {
   "cell_type": "markdown",
   "id": "165bd38d",
   "metadata": {},
   "source": [
    "## 5. Use a random forest then change the number of estimators."
   ]
  },
  {
   "cell_type": "code",
   "execution_count": 24,
   "id": "41506b5f",
   "metadata": {},
   "outputs": [
    {
     "name": "stdout",
     "output_type": "stream",
     "text": [
      "Accuracry=0.84\n"
     ]
    }
   ],
   "source": [
    "# import relevant libraries \n",
    "from sklearn.ensemble import RandomForestClassifier\n",
    "RF=RandomForestClassifier()\n",
    "RF.fit(x_train, y_train)\n",
    "y_pred=RF.predict(x_test)\n",
    "print(\"Accuracry={:.2f}\".format(accuracy_score(y_test,y_pred)))"
   ]
  },
  {
   "cell_type": "code",
   "execution_count": 26,
   "id": "2ee7cffc",
   "metadata": {},
   "outputs": [
    {
     "name": "stdout",
     "output_type": "stream",
     "text": [
      "Random Forest with n_estimators = 50\n",
      "Accuracry=0.86\n",
      "------------------------------------------------------\n",
      "Random Forest with n_estimators = 100\n",
      "Accuracry=0.86\n",
      "------------------------------------------------------\n",
      "Random Forest with n_estimators = 150\n",
      "Accuracry=0.86\n",
      "------------------------------------------------------\n",
      "Random Forest with n_estimators = 200\n",
      "Accuracry=0.84\n",
      "------------------------------------------------------\n",
      "Random Forest with n_estimators = 250\n",
      "Accuracry=0.85\n",
      "------------------------------------------------------\n",
      "Random Forest with n_estimators = 300\n",
      "Accuracry=0.84\n",
      "------------------------------------------------------\n",
      "Random Forest with n_estimators = 350\n",
      "Accuracry=0.86\n",
      "------------------------------------------------------\n",
      "Random Forest with n_estimators = 400\n",
      "Accuracry=0.86\n",
      "------------------------------------------------------\n",
      "Random Forest with n_estimators = 450\n",
      "Accuracry=0.86\n",
      "------------------------------------------------------\n",
      "Random Forest with n_estimators = 500\n",
      "Accuracry=0.85\n",
      "------------------------------------------------------\n"
     ]
    }
   ],
   "source": [
    "estimators=[50,100,150,200,250,300,350,400,450,500]\n",
    "for n in estimators:\n",
    "    RF=RandomForestClassifier(n_estimators=n)\n",
    "    RF.fit(x_train, y_train)\n",
    "    y_pred=RF.predict(x_test)\n",
    "    print(\"Random Forest with n_estimators =\",n)\n",
    "    print(\"Accuracry={:.2f}\".format(accuracy_score(y_test,y_pred)))\n",
    "    print(\"------------------------------------------------------\")"
   ]
  },
  {
   "cell_type": "markdown",
   "id": "3747d2be",
   "metadata": {},
   "source": [
    "## 6. Calculate the new accuracy and compare it with the previous result."
   ]
  },
  {
   "cell_type": "markdown",
   "id": "7119c98e",
   "metadata": {},
   "source": [
    "See 5."
   ]
  },
  {
   "cell_type": "markdown",
   "id": "7ccc3950",
   "metadata": {},
   "source": [
    "Random Forest: Acc=0.86/\n",
    "Decision Tree: Acc=0.85/\n",
    "Random Forest slightly better "
   ]
  }
 ],
 "metadata": {
  "kernelspec": {
   "display_name": "Python 3",
   "language": "python",
   "name": "python3"
  },
  "language_info": {
   "codemirror_mode": {
    "name": "ipython",
    "version": 3
   },
   "file_extension": ".py",
   "mimetype": "text/x-python",
   "name": "python",
   "nbconvert_exporter": "python",
   "pygments_lexer": "ipython3",
   "version": "3.8.8"
  }
 },
 "nbformat": 4,
 "nbformat_minor": 5
}
