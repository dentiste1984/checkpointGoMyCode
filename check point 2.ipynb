{
 "cells": [
  {
   "cell_type": "markdown",
   "id": "a9db2dde",
   "metadata": {},
   "source": [
    "# Check point n°2\n",
    "\n",
    "## Ali LAMINE"
   ]
  },
  {
   "cell_type": "markdown",
   "id": "d478c801",
   "metadata": {},
   "source": [
    "# Question 1"
   ]
  },
  {
   "cell_type": "raw",
   "id": "ee47eb97",
   "metadata": {},
   "source": [
    "Write a program that will find all numbers which are divisible by 7 but are not a multiple of 5, between 2000 and 3200 (both included). The numbers obtained should be printed in a list.\n",
    "\n",
    "Hint: Consider using the range(#begin, #end) method."
   ]
  },
  {
   "cell_type": "raw",
   "id": "96725ddb",
   "metadata": {},
   "source": [
    "Method 1"
   ]
  },
  {
   "cell_type": "code",
   "execution_count": 33,
   "id": "35347b66",
   "metadata": {},
   "outputs": [
    {
     "name": "stdout",
     "output_type": "stream",
     "text": [
      "the output :\n",
      "[2002, 2009, 2016, 2023, 2037, 2044, 2051, 2058, 2072, 2079, 2086, 2093, 2107, 2114, 2121, 2128, 2142, 2149, 2156, 2163, 2177, 2184, 2191, 2198, 2212, 2219, 2226, 2233, 2247, 2254, 2261, 2268, 2282, 2289, 2296, 2303, 2317, 2324, 2331, 2338, 2352, 2359, 2366, 2373, 2387, 2394, 2401, 2408, 2422, 2429, 2436, 2443, 2457, 2464, 2471, 2478, 2492, 2499, 2506, 2513, 2527, 2534, 2541, 2548, 2562, 2569, 2576, 2583, 2597, 2604, 2611, 2618, 2632, 2639, 2646, 2653, 2667, 2674, 2681, 2688, 2702, 2709, 2716, 2723, 2737, 2744, 2751, 2758, 2772, 2779, 2786, 2793, 2807, 2814, 2821, 2828, 2842, 2849, 2856, 2863, 2877, 2884, 2891, 2898, 2912, 2919, 2926, 2933, 2947, 2954, 2961, 2968, 2982, 2989, 2996, 3003, 3017, 3024, 3031, 3038, 3052, 3059, 3066, 3073, 3087, 3094, 3101, 3108, 3122, 3129, 3136, 3143, 3157, 3164, 3171, 3178, 3192, 3199]\n"
     ]
    }
   ],
   "source": [
    "a=[]\n",
    "for i in range (2000, 3201):\n",
    "    if (i%7==0) and (i%5!=0):\n",
    "        a.append(i)\n",
    "\n",
    "print(\"the output :\")\n",
    "print(a)\n",
    "        "
   ]
  },
  {
   "cell_type": "raw",
   "id": "a49b7ef9",
   "metadata": {},
   "source": [
    "Method 2"
   ]
  },
  {
   "cell_type": "code",
   "execution_count": 36,
   "id": "ff1c1da4",
   "metadata": {},
   "outputs": [
    {
     "name": "stdout",
     "output_type": "stream",
     "text": [
      "the output :\n",
      " [2002, 2009, 2016, 2023, 2037, 2044, 2051, 2058, 2072, 2079, 2086, 2093, 2107, 2114, 2121, 2128, 2142, 2149, 2156, 2163, 2177, 2184, 2191, 2198, 2212, 2219, 2226, 2233, 2247, 2254, 2261, 2268, 2282, 2289, 2296, 2303, 2317, 2324, 2331, 2338, 2352, 2359, 2366, 2373, 2387, 2394, 2401, 2408, 2422, 2429, 2436, 2443, 2457, 2464, 2471, 2478, 2492, 2499, 2506, 2513, 2527, 2534, 2541, 2548, 2562, 2569, 2576, 2583, 2597, 2604, 2611, 2618, 2632, 2639, 2646, 2653, 2667, 2674, 2681, 2688, 2702, 2709, 2716, 2723, 2737, 2744, 2751, 2758, 2772, 2779, 2786, 2793, 2807, 2814, 2821, 2828, 2842, 2849, 2856, 2863, 2877, 2884, 2891, 2898, 2912, 2919, 2926, 2933, 2947, 2954, 2961, 2968, 2982, 2989, 2996, 3003, 3017, 3024, 3031, 3038, 3052, 3059, 3066, 3073, 3087, 3094, 3101, 3108, 3122, 3129, 3136, 3143, 3157, 3164, 3171, 3178, 3192, 3199]\n"
     ]
    }
   ],
   "source": [
    "a=[i for i in range (2000, 3201) if (i%7==0) and (i%5!=0)]\n",
    "print (\"the output :\\n\", a)"
   ]
  },
  {
   "cell_type": "markdown",
   "id": "4f6a2f17",
   "metadata": {},
   "source": [
    "# Question 2"
   ]
  },
  {
   "cell_type": "raw",
   "id": "b8cf6d61",
   "metadata": {},
   "source": [
    "Write a program that can compute the factorial of a given number. \n",
    "(The factorial of n is the product of all positive integers less than or equal to n.) \n",
    "For example: For factorial(5)= 5 x 4 x 3 x 2 x 1 the result is 120 (i.e. factorial (0)=1)."
   ]
  },
  {
   "cell_type": "raw",
   "id": "e36e6652",
   "metadata": {},
   "source": [
    "Method 1"
   ]
  },
  {
   "cell_type": "code",
   "execution_count": 53,
   "id": "d5222e51",
   "metadata": {},
   "outputs": [],
   "source": [
    "def factorial(n):\n",
    "    if n==0:\n",
    "        fact=1\n",
    "    elif n>0:\n",
    "        fact=n\n",
    "        for i in range (1,n):\n",
    "            fact*=i    \n",
    "    return fact"
   ]
  },
  {
   "cell_type": "code",
   "execution_count": 54,
   "id": "c13e5f5a",
   "metadata": {},
   "outputs": [
    {
     "data": {
      "text/plain": [
       "120"
      ]
     },
     "execution_count": 54,
     "metadata": {},
     "output_type": "execute_result"
    }
   ],
   "source": [
    "factorial(5)"
   ]
  },
  {
   "cell_type": "code",
   "execution_count": 55,
   "id": "836ed44a",
   "metadata": {},
   "outputs": [
    {
     "data": {
      "text/plain": [
       "1"
      ]
     },
     "execution_count": 55,
     "metadata": {},
     "output_type": "execute_result"
    }
   ],
   "source": [
    "factorial(0)"
   ]
  },
  {
   "cell_type": "raw",
   "id": "a9a11620",
   "metadata": {},
   "source": [
    "Method 2"
   ]
  },
  {
   "cell_type": "code",
   "execution_count": 39,
   "id": "2fb40b98",
   "metadata": {},
   "outputs": [
    {
     "name": "stdout",
     "output_type": "stream",
     "text": [
      "Enter a number: 1\n",
      "The factorial of 1 is 1\n"
     ]
    }
   ],
   "source": [
    "def factorial(x):\n",
    "    if x == 1:\n",
    "        return 1\n",
    "    else:\n",
    "        # recursive call to the function\n",
    "        return (x * factorial(x-1))\n",
    "\n",
    "# to take input from the user\n",
    "num = int(input(\"Enter a number: \"))\n",
    "\n",
    "# call the factorial function\n",
    "result = factorial(num)\n",
    "print(\"The factorial of\", num, \"is\", result)"
   ]
  },
  {
   "cell_type": "raw",
   "id": "6c8b0ab3",
   "metadata": {},
   "source": [
    "Method 3"
   ]
  },
  {
   "cell_type": "code",
   "execution_count": 42,
   "id": "d4599f67",
   "metadata": {},
   "outputs": [
    {
     "name": "stdout",
     "output_type": "stream",
     "text": [
      "Enter a number: 5\n",
      "The factorial of 5 is 120\n"
     ]
    }
   ],
   "source": [
    "import math as m\n",
    "x=int(input(\"Enter a number: \"))\n",
    "print(\"The factorial of\", x, \"is\", m.factorial(x))"
   ]
  },
  {
   "cell_type": "markdown",
   "id": "59379e52",
   "metadata": {},
   "source": [
    "# Question 3"
   ]
  },
  {
   "cell_type": "raw",
   "id": "c42fe502",
   "metadata": {},
   "source": [
    "With a given integer number n, write a program to generate a dictionary that contains (i, i*i) such that is an integral number between 1 and n (both included). Then, the program should print the dictionary. Suppose the following input is supplied to the program: 8 Then, the output should be: {1: 1, 2: 4, 3: 9, 4: 16, 5: 25, 6: 36, 7: 49, 8: 64}  "
   ]
  },
  {
   "cell_type": "raw",
   "id": "81089c3c",
   "metadata": {},
   "source": [
    "Method 1"
   ]
  },
  {
   "cell_type": "code",
   "execution_count": 51,
   "id": "2ab56e7a",
   "metadata": {},
   "outputs": [
    {
     "name": "stdout",
     "output_type": "stream",
     "text": [
      "Please, give an intenger >= to 1: 8\n",
      "The output is :\n",
      " {1: 1, 2: 4, 3: 9, 4: 16, 5: 25, 6: 36, 7: 49, 8: 64}\n"
     ]
    }
   ],
   "source": [
    "while True:\n",
    "    n=int(input(\"Please, give an intenger >= to 1: \"))\n",
    "    if n>=1:\n",
    "        dict={}\n",
    "        for i in range(1,n+1):\n",
    "            dict[i]=i*i\n",
    "        break\n",
    "\n",
    "print(\"The output is :\\n\", dict)"
   ]
  },
  {
   "cell_type": "raw",
   "id": "05a7e779",
   "metadata": {},
   "source": [
    "Method 2"
   ]
  },
  {
   "cell_type": "code",
   "execution_count": 52,
   "id": "72d1850c",
   "metadata": {},
   "outputs": [
    {
     "name": "stdout",
     "output_type": "stream",
     "text": [
      "Enter the value of n: 8\n",
      "{1: 1, 2: 4, 3: 9, 4: 16, 5: 25, 6: 36, 7: 49, 8: 64}\n"
     ]
    }
   ],
   "source": [
    "# Take User Input of Number\n",
    "\n",
    "n = int(input(\"Enter the value of n: \"))\n",
    "\n",
    "# Create a dictionary of squares\n",
    "\n",
    "squares = {i : i*i for i in range(1, n+1)}\n",
    "\n",
    "# Print the dictionary\n",
    "\n",
    "print(squares)"
   ]
  },
  {
   "cell_type": "markdown",
   "id": "5f84a1c6",
   "metadata": {},
   "source": [
    "# Question 4"
   ]
  },
  {
   "cell_type": "raw",
   "id": "6d1dd5c2",
   "metadata": {},
   "source": [
    "Given a non-empty string and an integral n, return a new string where the char at index n has been removed. The value of n will be a valid index of a char in the original string (i.e. n will be in the range 0..len(str)-1 inclusive). \n",
    "\n",
    "missing_char('kitten', 1) → 'ktten'    for example here we remove \"i\" which is located in the index 1\n",
    "\n",
    "missing_char('kitten', 0) → 'itten'   here we remove \"k\" which is in the index 0\n",
    "\n",
    "missing_char('kitten', 4) → 'kittn'   here we remove \"e\" which is in the index 4"
   ]
  },
  {
   "cell_type": "raw",
   "id": "396045a1",
   "metadata": {},
   "source": [
    "Method 1"
   ]
  },
  {
   "cell_type": "code",
   "execution_count": 1,
   "id": "ca681ed9",
   "metadata": {},
   "outputs": [
    {
     "name": "stdout",
     "output_type": "stream",
     "text": [
      "Give a string : kitten\n",
      "Give an integer between 0 and 5 : 4\n",
      "missing_char('kitten', 4) -> 'kittn'\n"
     ]
    }
   ],
   "source": [
    "while True:\n",
    "    string=input(\"Give a string : \")\n",
    "    if string!=\"\":\n",
    "        break\n",
    "\n",
    "while True:      \n",
    "    n=int(input(\"Give an integer between 0 and \"+ str(len(string)-1)+ \" : \"))\n",
    "    if n in range (0, len(string)):\n",
    "        break\n",
    "\n",
    "a=\"\"\n",
    "for i in range (0, len(string)):\n",
    "    if i!=n:\n",
    "        a= a + string[i]\n",
    "print(\"missing_char('\",string,\"', \",n, \") -> '\",a,\"'\", sep=\"\")\n",
    "    \n"
   ]
  },
  {
   "cell_type": "raw",
   "id": "789c6b8e",
   "metadata": {},
   "source": [
    "Method 2"
   ]
  },
  {
   "cell_type": "code",
   "execution_count": 2,
   "id": "19444094",
   "metadata": {},
   "outputs": [
    {
     "name": "stdout",
     "output_type": "stream",
     "text": [
      "kittn\n"
     ]
    }
   ],
   "source": [
    "def missing_char(str, n):\n",
    "  front = str[:n]   # up to but not including n\n",
    "  back = str[n+1:]  # n+1 through end of string\n",
    "  return front + back\n",
    "\n",
    "print(missing_char(string, n))"
   ]
  },
  {
   "cell_type": "markdown",
   "id": "61df4c65",
   "metadata": {},
   "source": [
    "# Question 5"
   ]
  },
  {
   "cell_type": "raw",
   "id": "62bfb1d7",
   "metadata": {},
   "source": [
    "Write a NumPy program to convert a NumPy array into a Python list structure.\n",
    "\n",
    "Expected output: \n",
    "\n",
    "Original array elements: [[0 1] [2 3] [4 5]] \n",
    "\n",
    "Array to list: [[0, 1], [2, 3], [4, 5]] \n",
    " \n",
    "\n",
    "Hint: We can use the to_list() function to ensure the conversion."
   ]
  },
  {
   "cell_type": "raw",
   "id": "8555f630",
   "metadata": {},
   "source": [
    "Method 1"
   ]
  },
  {
   "cell_type": "code",
   "execution_count": 61,
   "id": "1121ff8f",
   "metadata": {},
   "outputs": [
    {
     "name": "stdout",
     "output_type": "stream",
     "text": [
      "Original array elements:\n",
      "[[0 1]\n",
      " [2 3]\n",
      " [4 5]]\n",
      "<class 'numpy.ndarray'>\n",
      "\n",
      "Array to list:\n",
      "[[0, 1], [2, 3], [4, 5]]\n",
      "<class 'list'>\n"
     ]
    }
   ],
   "source": [
    "# import module\n",
    "import numpy as np\n",
    "\n",
    "# create array\n",
    "print(\"Original array elements:\")\n",
    "arr = np.array([[0, 1],[2, 3],[4, 5]])\n",
    "print(arr)\n",
    "print(type(arr))\n",
    "\n",
    "# apply method\n",
    "lis = arr.tolist()\n",
    "\n",
    "# display list\n",
    "print(\"\\nArray to list:\")\n",
    "print(lis)\n",
    "print(type(lis))\n"
   ]
  },
  {
   "cell_type": "raw",
   "id": "fc313318",
   "metadata": {},
   "source": [
    "Method 2"
   ]
  },
  {
   "cell_type": "code",
   "execution_count": 59,
   "id": "03acd7df",
   "metadata": {},
   "outputs": [
    {
     "name": "stdout",
     "output_type": "stream",
     "text": [
      "Original array elements:\n",
      "[[0 1]\n",
      " [2 3]\n",
      " [4 5]]\n",
      "Array to list:\n",
      "[[0, 1], [2, 3], [4, 5]]\n"
     ]
    }
   ],
   "source": [
    "import numpy as np\n",
    "x= np.arange(6).reshape(3, 2)\n",
    "print(\"Original array elements:\")\n",
    "print(x)\n",
    "print(\"Array to list:\")\n",
    "print(x.tolist())"
   ]
  },
  {
   "cell_type": "markdown",
   "id": "0edeb720",
   "metadata": {},
   "source": [
    "# Question 6"
   ]
  },
  {
   "cell_type": "raw",
   "id": "24e2a7b8",
   "metadata": {},
   "source": [
    "Write a NumPy program to compute the covariance matrix of two given arrays. \n",
    "\n",
    "Original array1: [0 1 2] \n",
    "\n",
    "Original array2: [2 1 0] \n",
    "\n",
    "Covariance matrix of the said arrays: [[ 1. -1.] [-1. 1.]]\n",
    " \n",
    "\n",
    "Hint: We can use the np.cov() function to calculate the covariance between these two arrays"
   ]
  },
  {
   "cell_type": "code",
   "execution_count": 71,
   "id": "26577d26",
   "metadata": {},
   "outputs": [
    {
     "name": "stdout",
     "output_type": "stream",
     "text": [
      "Original Array1: [[0 1 2]]\n",
      "Original Array2: [[2 1 0]]\n",
      "Covariance matrix of the said arrays: \n",
      " [[ 1. -1.]\n",
      " [-1.  1.]]\n"
     ]
    }
   ],
   "source": [
    "# import module\n",
    "import numpy as np\n",
    "\n",
    "# create array 1\n",
    "arr1 = np.array([[0, 1, 2]])\n",
    "print(\"Original Array1:\", arr1)\n",
    "\n",
    "# create array 2\n",
    "arr2 = np.array([[2, 1, 0]])\n",
    "print(\"Original Array2:\", arr2)\n",
    "\n",
    "# calculate covariance \n",
    "covar= np.cov(arr1, arr2)\n",
    "\n",
    "# display result\n",
    "print(\"Covariance matrix of the said arrays: \\n\", covar)\n"
   ]
  },
  {
   "cell_type": "markdown",
   "id": "553e21ae",
   "metadata": {},
   "source": [
    "# Question 7"
   ]
  },
  {
   "cell_type": "raw",
   "id": "f8816fa8",
   "metadata": {},
   "source": [
    "Question: Write a program that calculates and prints the value according to the given formula: Q= Square root of [(2 * C * D)/H] \n",
    "\n",
    "The following are the fixed values of C and H: C is 50. H is 30. \n",
    "\n",
    "D is the variable whose values should be input into your program in a comma-separated sequence. (That means D contains more than value)\n",
    "\n",
    "Example: Let's assume the following comma-separated input sequence is given to the program: 100,150,180 The output of the program should be 18,22,24 \n",
    "\n",
    "To further explain this, we will obtain a result for each value of D:  Q1= Square root of [(2 * C * 100)/H] =18, Q2= Square root of [(2 * C * 150)/H] = 22 and Q3 = Square root of [(2 * C * 180)/H]  = 24\n",
    "\n",
    "Hint: If the output received is in decimal form, it should be rounded off to its nearest value. For example, if the output received is 26.0, it should be printed as 26. In case of input data being supplied to the question, it should be assumed to be a console input. "
   ]
  },
  {
   "cell_type": "raw",
   "id": "e9bec88b",
   "metadata": {},
   "source": [
    "Method 1"
   ]
  },
  {
   "cell_type": "code",
   "execution_count": 32,
   "id": "262b8328",
   "metadata": {},
   "outputs": [
    {
     "name": "stdout",
     "output_type": "stream",
     "text": [
      "Give a coma-seperated input 100,150,180\n",
      "the output is 18,22,24\n"
     ]
    }
   ],
   "source": [
    "# import module\n",
    "import math as m\n",
    "\n",
    "# creation of the calculation function \n",
    "def prog(D, C=50, H=30):\n",
    "    Q=m.sqrt((2*C*D)/H)\n",
    "    return round(Q)\n",
    "\n",
    "# creation of a function that asks for an input and gives the output\n",
    "def quest():\n",
    "    b=input(\"Give a coma-seperated input \") # asking for the input\n",
    "    c=b.split(\",\") # creation of a list of str\n",
    "    c=[float(i) for i in c] # tranformation to a list of floats\n",
    "    a=[]\n",
    "    for i in c:\n",
    "        a.append(prog(i)) # calculation of the input\n",
    "    return \",\".join(str(element) for element in a) # creation of the output\n",
    "\n",
    "print(\"the output is\", quest()) # print the result\n"
   ]
  },
  {
   "cell_type": "raw",
   "id": "b3d0ec69",
   "metadata": {},
   "source": [
    "Method 2"
   ]
  },
  {
   "cell_type": "code",
   "execution_count": 67,
   "id": "b9e2fe8a",
   "metadata": {},
   "outputs": [
    {
     "name": "stdout",
     "output_type": "stream",
     "text": [
      "Input Values 100,150,180\n",
      "The followings output are\n",
      "18,22,24\n"
     ]
    }
   ],
   "source": [
    "import math\n",
    "\n",
    "c = 50\n",
    "h = 30\n",
    "\n",
    "value = []\n",
    "\n",
    "items = [x for x in input(\"Input Values \").split(',')]\n",
    "\n",
    "for d in items:\n",
    "    value.append(str(int(round(math.sqrt(2*c*float(d)/h)))))\n",
    "\n",
    "\n",
    "print(\"The followings output are\")\n",
    "\n",
    "print(','.join(value))"
   ]
  },
  {
   "cell_type": "code",
   "execution_count": null,
   "id": "6631dfb6",
   "metadata": {},
   "outputs": [],
   "source": []
  }
 ],
 "metadata": {
  "kernelspec": {
   "display_name": "Python 3",
   "language": "python",
   "name": "python3"
  },
  "language_info": {
   "codemirror_mode": {
    "name": "ipython",
    "version": 3
   },
   "file_extension": ".py",
   "mimetype": "text/x-python",
   "name": "python",
   "nbconvert_exporter": "python",
   "pygments_lexer": "ipython3",
   "version": "3.8.8"
  }
 },
 "nbformat": 4,
 "nbformat_minor": 5
}
